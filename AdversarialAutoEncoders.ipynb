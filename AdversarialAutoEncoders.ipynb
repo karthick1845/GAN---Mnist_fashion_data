{
  "nbformat": 4,
  "nbformat_minor": 0,
  "metadata": {
    "colab": {
      "name": "AdversarialAutoEncoders.ipynb",
      "provenance": [],
      "collapsed_sections": []
    },
    "kernelspec": {
      "name": "python3",
      "display_name": "Python 3"
    },
    "accelerator": "GPU"
  },
  "cells": [
    {
      "cell_type": "code",
      "metadata": {
        "id": "UcyoFmSRkVgl",
        "colab_type": "code",
        "outputId": "b12b6193-d819-4a28-d278-97acd2a6e87e",
        "colab": {
          "base_uri": "https://localhost:8080/",
          "height": 765
        }
      },
      "source": [
        "!wget http://fashion-mnist.s3-website.eu-central-1.amazonaws.com/train-images-idx3-ubyte.gz\n",
        "!wget http://fashion-mnist.s3-website.eu-central-1.amazonaws.com/train-labels-idx1-ubyte.gz\n",
        "!wget http://fashion-mnist.s3-website.eu-central-1.amazonaws.com/t10k-images-idx3-ubyte.gz\n",
        "!wget http://fashion-mnist.s3-website.eu-central-1.amazonaws.com/t10k-labels-idx1-ubyte.gz"
      ],
      "execution_count": 1,
      "outputs": [
        {
          "output_type": "stream",
          "text": [
            "--2019-09-29 10:57:19--  http://fashion-mnist.s3-website.eu-central-1.amazonaws.com/train-images-idx3-ubyte.gz\n",
            "Resolving fashion-mnist.s3-website.eu-central-1.amazonaws.com (fashion-mnist.s3-website.eu-central-1.amazonaws.com)... 52.219.72.114\n",
            "Connecting to fashion-mnist.s3-website.eu-central-1.amazonaws.com (fashion-mnist.s3-website.eu-central-1.amazonaws.com)|52.219.72.114|:80... connected.\n",
            "HTTP request sent, awaiting response... 200 OK\n",
            "Length: 26421880 (25M) [binary/octet-stream]\n",
            "Saving to: ‘train-images-idx3-ubyte.gz’\n",
            "\n",
            "train-images-idx3-u 100%[===================>]  25.20M  6.49MB/s    in 3.9s    \n",
            "\n",
            "2019-09-29 10:57:23 (6.49 MB/s) - ‘train-images-idx3-ubyte.gz’ saved [26421880/26421880]\n",
            "\n",
            "--2019-09-29 10:57:28--  http://fashion-mnist.s3-website.eu-central-1.amazonaws.com/train-labels-idx1-ubyte.gz\n",
            "Resolving fashion-mnist.s3-website.eu-central-1.amazonaws.com (fashion-mnist.s3-website.eu-central-1.amazonaws.com)... 52.219.74.86\n",
            "Connecting to fashion-mnist.s3-website.eu-central-1.amazonaws.com (fashion-mnist.s3-website.eu-central-1.amazonaws.com)|52.219.74.86|:80... connected.\n",
            "HTTP request sent, awaiting response... 200 OK\n",
            "Length: 29515 (29K) [binary/octet-stream]\n",
            "Saving to: ‘train-labels-idx1-ubyte.gz’\n",
            "\n",
            "train-labels-idx1-u 100%[===================>]  28.82K   111KB/s    in 0.3s    \n",
            "\n",
            "2019-09-29 10:57:29 (111 KB/s) - ‘train-labels-idx1-ubyte.gz’ saved [29515/29515]\n",
            "\n",
            "--2019-09-29 10:57:36--  http://fashion-mnist.s3-website.eu-central-1.amazonaws.com/t10k-images-idx3-ubyte.gz\n",
            "Resolving fashion-mnist.s3-website.eu-central-1.amazonaws.com (fashion-mnist.s3-website.eu-central-1.amazonaws.com)... 52.219.72.70\n",
            "Connecting to fashion-mnist.s3-website.eu-central-1.amazonaws.com (fashion-mnist.s3-website.eu-central-1.amazonaws.com)|52.219.72.70|:80... connected.\n",
            "HTTP request sent, awaiting response... 200 OK\n",
            "Length: 4422102 (4.2M) [binary/octet-stream]\n",
            "Saving to: ‘t10k-images-idx3-ubyte.gz’\n",
            "\n",
            "t10k-images-idx3-ub 100%[===================>]   4.22M  2.02MB/s    in 2.1s    \n",
            "\n",
            "2019-09-29 10:57:39 (2.02 MB/s) - ‘t10k-images-idx3-ubyte.gz’ saved [4422102/4422102]\n",
            "\n",
            "--2019-09-29 10:57:43--  http://fashion-mnist.s3-website.eu-central-1.amazonaws.com/t10k-labels-idx1-ubyte.gz\n",
            "Resolving fashion-mnist.s3-website.eu-central-1.amazonaws.com (fashion-mnist.s3-website.eu-central-1.amazonaws.com)... 52.219.74.62\n",
            "Connecting to fashion-mnist.s3-website.eu-central-1.amazonaws.com (fashion-mnist.s3-website.eu-central-1.amazonaws.com)|52.219.74.62|:80... connected.\n",
            "HTTP request sent, awaiting response... 200 OK\n",
            "Length: 5148 (5.0K) [binary/octet-stream]\n",
            "Saving to: ‘t10k-labels-idx1-ubyte.gz’\n",
            "\n",
            "t10k-labels-idx1-ub 100%[===================>]   5.03K  --.-KB/s    in 0s      \n",
            "\n",
            "2019-09-29 10:57:44 (509 MB/s) - ‘t10k-labels-idx1-ubyte.gz’ saved [5148/5148]\n",
            "\n"
          ],
          "name": "stdout"
        }
      ]
    },
    {
      "cell_type": "code",
      "metadata": {
        "id": "wx26lBNnlSb-",
        "colab_type": "code",
        "outputId": "eec8232a-d62a-42b5-88a2-4602775ef1e0",
        "colab": {
          "base_uri": "https://localhost:8080/",
          "height": 68
        }
      },
      "source": [
        "!ls"
      ],
      "execution_count": 2,
      "outputs": [
        {
          "output_type": "stream",
          "text": [
            "sample_data\t\t   train-images-idx3-ubyte.gz\n",
            "t10k-images-idx3-ubyte.gz  train-labels-idx1-ubyte.gz\n",
            "t10k-labels-idx1-ubyte.gz\n"
          ],
          "name": "stdout"
        }
      ]
    },
    {
      "cell_type": "code",
      "metadata": {
        "id": "9BazpF0bmJM0",
        "colab_type": "code",
        "colab": {}
      },
      "source": [
        "import numpy as np\n",
        "import tensorflow as tf\n",
        "import matplotlib.pyplot as plt"
      ],
      "execution_count": 0,
      "outputs": []
    },
    {
      "cell_type": "code",
      "metadata": {
        "id": "ac0FYa8Xlede",
        "colab_type": "code",
        "outputId": "72e8a927-0861-4019-81ee-8fcb94bd68ab",
        "colab": {
          "base_uri": "https://localhost:8080/",
          "height": 360
        }
      },
      "source": [
        "!mkdir MNIST_Fashion\n",
        "!cp *.gz MNIST_Fashion/\n",
        "from tensorflow.examples.tutorials.mnist import input_data\n",
        "mnist = input_data.read_data_sets(\"MNIST_Fashion/\")"
      ],
      "execution_count": 4,
      "outputs": [
        {
          "output_type": "stream",
          "text": [
            "WARNING:tensorflow:From <ipython-input-4-8b24037dcc55>:4: read_data_sets (from tensorflow.contrib.learn.python.learn.datasets.mnist) is deprecated and will be removed in a future version.\n",
            "Instructions for updating:\n",
            "Please use alternatives such as official/mnist/dataset.py from tensorflow/models.\n",
            "WARNING:tensorflow:From /usr/local/lib/python3.6/dist-packages/tensorflow/contrib/learn/python/learn/datasets/mnist.py:260: maybe_download (from tensorflow.contrib.learn.python.learn.datasets.base) is deprecated and will be removed in a future version.\n",
            "Instructions for updating:\n",
            "Please write your own downloading logic.\n",
            "WARNING:tensorflow:From /usr/local/lib/python3.6/dist-packages/tensorflow/contrib/learn/python/learn/datasets/mnist.py:262: extract_images (from tensorflow.contrib.learn.python.learn.datasets.mnist) is deprecated and will be removed in a future version.\n",
            "Instructions for updating:\n",
            "Please use tf.data to implement this functionality.\n",
            "Extracting MNIST_Fashion/train-images-idx3-ubyte.gz\n",
            "WARNING:tensorflow:From /usr/local/lib/python3.6/dist-packages/tensorflow/contrib/learn/python/learn/datasets/mnist.py:267: extract_labels (from tensorflow.contrib.learn.python.learn.datasets.mnist) is deprecated and will be removed in a future version.\n",
            "Instructions for updating:\n",
            "Please use tf.data to implement this functionality.\n",
            "Extracting MNIST_Fashion/train-labels-idx1-ubyte.gz\n",
            "Extracting MNIST_Fashion/t10k-images-idx3-ubyte.gz\n",
            "Extracting MNIST_Fashion/t10k-labels-idx1-ubyte.gz\n",
            "WARNING:tensorflow:From /usr/local/lib/python3.6/dist-packages/tensorflow/contrib/learn/python/learn/datasets/mnist.py:290: DataSet.__init__ (from tensorflow.contrib.learn.python.learn.datasets.mnist) is deprecated and will be removed in a future version.\n",
            "Instructions for updating:\n",
            "Please use alternatives such as official/mnist/dataset.py from tensorflow/models.\n"
          ],
          "name": "stdout"
        }
      ]
    },
    {
      "cell_type": "code",
      "metadata": {
        "id": "XMupEFAhmh6S",
        "colab_type": "code",
        "colab": {}
      },
      "source": [
        "#Training PArams\n",
        "learning_rate = 0.0002\n",
        "batch_size = 32\n",
        "epochs = 100000\n",
        "\n",
        "#Network params\n",
        "image_dimension = 784 #img sz is 28x28\n",
        "neural_network_dimension = 128\n",
        "latent_variable_dimension = 10 \n",
        "z_noise_dim = 10 # must be same as latent var dim bcoz they are directly fed into the discriminator \n",
        "\n",
        "def xavier_init(shape):\n",
        "  return tf.random_normal(shape = shape, stddev= 1./tf.sqrt(shape[0]/2.0))"
      ],
      "execution_count": 0,
      "outputs": []
    },
    {
      "cell_type": "code",
      "metadata": {
        "id": "YZT-GzeQtaQN",
        "colab_type": "code",
        "colab": {}
      },
      "source": [
        "\n",
        "# Weights and biases of Discriminator\n",
        "Disc_W = {\n",
        "    \"disc_H\" : tf.Variable(xavier_init([latent_variable_dimension, neural_network_dimension])), #W1\n",
        "    \"disc_final\": tf.Variable(xavier_init([neural_network_dimension,1])) #W2\n",
        "}\n",
        "\n",
        "Disc_Bias= {\n",
        "    \"disc_H\" : tf.Variable(xavier_init([neural_network_dimension])), #B1\n",
        "    \"disc_final\": tf.Variable(xavier_init([1])) #B2\n",
        "}\n",
        "\n",
        "# Weight and Bias for Auto encoders\n",
        "AE_weight = {\"E_weight_encoder\": tf.Variable(xavier_init([image_dimension, neural_network_dimension])), #W1\n",
        "             \"E_weight_hidden\" : tf.Variable(xavier_init([neural_network_dimension, latent_variable_dimension])), #W2\n",
        "             \n",
        "             \"D_weight_hidden\" : tf.Variable(xavier_init([latent_variable_dimension, neural_network_dimension])), #Wdisc3\n",
        "             \"D_weight_decoder\": tf.Variable(xavier_init([neural_network_dimension, image_dimension])) #W4\n",
        "}\n",
        "\n",
        "AE_bias = { \"E_bias_encoder\": tf.Variable(xavier_init([neural_network_dimension])), #B1\n",
        "            \"E_bias_hidden\":  tf.Variable(xavier_init([latent_variable_dimension])), #B2\n",
        "            \"D_bias_hidden\":  tf.Variable(xavier_init([neural_network_dimension])), #B3\n",
        "            \"D_bias_decoder\":  tf.Variable(xavier_init([image_dimension])) #B1\n",
        "}"
      ],
      "execution_count": 0,
      "outputs": []
    },
    {
      "cell_type": "code",
      "metadata": {
        "id": "uWg-TWTDwsK1",
        "colab_type": "code",
        "colab": {}
      },
      "source": [
        "#define placeholders for external input\n",
        "\n",
        "z_input = tf.placeholder(tf.float32, shape = [None, z_noise_dim], name = \"input_noise\")\n",
        "x_input = tf.placeholder(tf.float32, shape = [None, image_dimension], name = \"real_noise\")\n"
      ],
      "execution_count": 0,
      "outputs": []
    },
    {
      "cell_type": "code",
      "metadata": {
        "id": "Od--kA7nvAch",
        "colab_type": "code",
        "colab": {}
      },
      "source": [
        "#creating computational graph\n",
        "def Encoder(x):\n",
        "  hidden_layer = tf.nn.relu(tf.add(tf.matmul(x, AE_weight[\"E_weight_encoder\"]), AE_bias[\"E_bias_encoder\"]))\n",
        "  enc_output = tf.add(tf.matmul(hidden_layer, AE_weight[\"E_weight_hidden\"]), AE_bias[\"E_bias_hidden\"])\n",
        "  return enc_output\n",
        "\n",
        "def Decoder(x):\n",
        "  hidden_layer = tf.nn.relu(tf.add(tf.matmul(x, AE_weight[\"D_weight_hidden\"]), AE_bias[\"D_bias_hidden\"]))\n",
        "  dec_output = (tf.add(tf.matmul(hidden_layer, AE_weight[\"D_weight_decoder\"]), AE_bias[\"D_bias_decoder\"]))\n",
        "  prob = tf.nn.sigmoid(dec_output)\n",
        "  return prob, dec_output\n",
        "  \n",
        "def Discriminator(x):\n",
        "  hidden_layer = tf.nn.relu(tf.add(tf.matmul(x, Disc_W[\"disc_H\"]), Disc_Bias[\"disc_H\"]))\n",
        "  final_layer = (tf.add(tf.matmul(hidden_layer, Disc_W[\"disc_final\"]), Disc_Bias[\"disc_final\"]))\n",
        "  disc_output = tf.nn.sigmoid(final_layer)\n",
        "  return disc_output\n",
        "  "
      ],
      "execution_count": 0,
      "outputs": []
    },
    {
      "cell_type": "code",
      "metadata": {
        "id": "vfq_esohxQOo",
        "colab_type": "code",
        "colab": {}
      },
      "source": [
        "# building the AEN NW\n",
        "latent_output = Encoder(x_input)\n",
        "_, final_output = Decoder(latent_output)\n",
        "\n",
        " # Building the Disc NW\n",
        "real_output_disc = Discriminator(z_input) #real data is coming from prior defined in form of noise\n",
        "fake_output_disc = Discriminator(latent_output)  # Fake data \"\" latent variable generated by encoder"
      ],
      "execution_count": 0,
      "outputs": []
    },
    {
      "cell_type": "code",
      "metadata": {
        "id": "09_G-6jyyxIl",
        "colab_type": "code",
        "colab": {
          "base_uri": "https://localhost:8080/",
          "height": 88
        },
        "outputId": "779949c9-0ce7-4386-805a-a1bae194a291"
      },
      "source": [
        "AE_Loss = tf.reduce_mean(tf.nn.sigmoid_cross_entropy_with_logits(logits = final_output, labels = x_input))\n",
        "\n",
        "#GAN Loss\n",
        "Discriminator_Loss = -tf.reduce_mean(tf.log(real_output_disc)+tf.log(1.0-fake_output_disc))\n",
        "Generator_Loss = -tf.reduce_mean(tf.log(fake_output_disc))\n"
      ],
      "execution_count": 18,
      "outputs": [
        {
          "output_type": "stream",
          "text": [
            "WARNING:tensorflow:From /usr/local/lib/python3.6/dist-packages/tensorflow/python/ops/nn_impl.py:180: add_dispatch_support.<locals>.wrapper (from tensorflow.python.ops.array_ops) is deprecated and will be removed in a future version.\n",
            "Instructions for updating:\n",
            "Use tf.where in 2.0, which has the same broadcast rule as np.where\n"
          ],
          "name": "stdout"
        }
      ]
    },
    {
      "cell_type": "code",
      "metadata": {
        "id": "DmvjYQaKuXpi",
        "colab_type": "code",
        "colab": {}
      },
      "source": [
        "# Define the variables\n",
        "\n",
        "Encoder_var = [AE_weight[\"E_weight_encoder\"], AE_bias[\"E_bias_encoder\"], AE_weight[\"E_weight_hidden\"], AE_bias[\"E_bias_hidden\"]]\n",
        "Decoder_var = [AE_weight[\"D_weight_decoder\"], AE_bias[\"D_bias_decoder\"], AE_weight[\"D_weight_hidden\"], AE_bias[\"D_bias_hidden\"]]\n",
        "Discriminator_var = [Disc_W[\"disc_H\"], Disc_W[\"disc_final\"], Disc_Bias[\"disc_H\"], Disc_Bias[\"disc_final\"]]\n",
        "\n",
        "#Define the optimizer\n",
        "AutoEncoder_optimize = tf.train.AdamOptimizer(learning_rate = learning_rate).minimize(AE_Loss, var_list = Encoder_var + Decoder_var)\n",
        "Discriminator_optimize = tf.train.AdamOptimizer(learning_rate = learning_rate).minimize(Discriminator_Loss, var_list = Discriminator_var)\n",
        "Generator_optimize = tf.train.AdamOptimizer(learning_rate = learning_rate).minimize(Generator_Loss, var_list = Encoder_var)\n",
        "  "
      ],
      "execution_count": 0,
      "outputs": []
    },
    {
      "cell_type": "code",
      "metadata": {
        "id": "B6nBmWh6wLLq",
        "colab_type": "code",
        "outputId": "694b2e7a-2232-437a-a7e4-730b3e005aed",
        "colab": {
          "base_uri": "https://localhost:8080/",
          "height": 867
        }
      },
      "source": [
        "# Initialize the variables\n",
        "\n",
        "init = tf.global_variables_initializer()\n",
        "sess = tf.Session()\n",
        "\n",
        "sess.run(init)\n",
        "writer = tf.summary.FileWriter(\"./log\", sess.graph)\n",
        "\n",
        "for epoch in range(epochs):\n",
        "  x_batch, _ = mnist.train.next_batch(batch_size)\n",
        "  \n",
        "  #Generate noise to feed Discriminator\n",
        "  z_noise = np.random.normal(0,1,[batch_size, z_noise_dim])\n",
        "  _, AE_loss_epoch = sess.run([AutoEncoder_optimize, AE_Loss], feed_dict = {x_input:x_batch})\n",
        "\n",
        "  _, Disc_loss_epoch = sess.run([Discriminator_optimize, Discriminator_Loss], feed_dict = {x_input:x_batch, z_input:z_noise})\n",
        "  _, Gen_loss_epoch = sess.run([Generator_optimize, Generator_Loss], feed_dict = {x_input:x_batch})  \n",
        "  \n",
        "  #Running the Discriminator summary\n",
        "  \n",
        "  if epoch % 2000 == 0:\n",
        "    print(\"Steps: {0}: Generator Loss: {1}, Discriminator Loss:{2}\".format(epoch, Gen_loss_epoch, Disc_loss_epoch))\n",
        "  \n",
        "  \n"
      ],
      "execution_count": 24,
      "outputs": [
        {
          "output_type": "stream",
          "text": [
            "Steps: 0: Generator Loss: 0.08944684267044067, Discriminator Loss:2.822495937347412\n",
            "Steps: 2000: Generator Loss: 0.522484540939331, Discriminator Loss:1.6667721271514893\n",
            "Steps: 4000: Generator Loss: 0.6321603059768677, Discriminator Loss:1.475841999053955\n",
            "Steps: 6000: Generator Loss: 0.6137083768844604, Discriminator Loss:1.4712445735931396\n",
            "Steps: 8000: Generator Loss: 0.6389098167419434, Discriminator Loss:1.4273643493652344\n",
            "Steps: 10000: Generator Loss: 0.7201262712478638, Discriminator Loss:1.4319472312927246\n",
            "Steps: 12000: Generator Loss: 0.690879225730896, Discriminator Loss:1.4424973726272583\n",
            "Steps: 14000: Generator Loss: 0.6603438854217529, Discriminator Loss:1.4276323318481445\n",
            "Steps: 16000: Generator Loss: 0.6527563333511353, Discriminator Loss:1.4316380023956299\n",
            "Steps: 18000: Generator Loss: 0.6850460171699524, Discriminator Loss:1.4013385772705078\n",
            "Steps: 20000: Generator Loss: 0.665576696395874, Discriminator Loss:1.4236721992492676\n",
            "Steps: 22000: Generator Loss: 0.6737898588180542, Discriminator Loss:1.4123132228851318\n",
            "Steps: 24000: Generator Loss: 0.659559965133667, Discriminator Loss:1.4134172201156616\n",
            "Steps: 26000: Generator Loss: 0.6578633785247803, Discriminator Loss:1.4118120670318604\n",
            "Steps: 28000: Generator Loss: 0.6965067386627197, Discriminator Loss:1.4376752376556396\n",
            "Steps: 30000: Generator Loss: 0.6488630771636963, Discriminator Loss:1.4086666107177734\n",
            "Steps: 32000: Generator Loss: 0.669306755065918, Discriminator Loss:1.4299070835113525\n",
            "Steps: 34000: Generator Loss: 0.6740926504135132, Discriminator Loss:1.4413195848464966\n",
            "Steps: 36000: Generator Loss: 0.6600620746612549, Discriminator Loss:1.4090356826782227\n",
            "Steps: 38000: Generator Loss: 0.6963119506835938, Discriminator Loss:1.450350046157837\n",
            "Steps: 40000: Generator Loss: 0.669830858707428, Discriminator Loss:1.391801118850708\n",
            "Steps: 42000: Generator Loss: 0.7127766609191895, Discriminator Loss:1.378522276878357\n",
            "Steps: 44000: Generator Loss: 0.7050613164901733, Discriminator Loss:1.4083853960037231\n",
            "Steps: 46000: Generator Loss: 0.7002474665641785, Discriminator Loss:1.4023624658584595\n",
            "Steps: 48000: Generator Loss: 0.7024936676025391, Discriminator Loss:1.4114725589752197\n",
            "Steps: 50000: Generator Loss: 0.6941900253295898, Discriminator Loss:1.4087730646133423\n",
            "Steps: 52000: Generator Loss: 0.6832266449928284, Discriminator Loss:1.4229081869125366\n",
            "Steps: 54000: Generator Loss: 0.6700378060340881, Discriminator Loss:1.4147040843963623\n",
            "Steps: 56000: Generator Loss: 0.7112710475921631, Discriminator Loss:1.4034757614135742\n",
            "Steps: 58000: Generator Loss: 0.6440823078155518, Discriminator Loss:1.4242441654205322\n",
            "Steps: 60000: Generator Loss: 0.6821736097335815, Discriminator Loss:1.4030966758728027\n",
            "Steps: 62000: Generator Loss: 0.6750378608703613, Discriminator Loss:1.4028204679489136\n",
            "Steps: 64000: Generator Loss: 0.7087409496307373, Discriminator Loss:1.3950915336608887\n",
            "Steps: 66000: Generator Loss: 0.6923669576644897, Discriminator Loss:1.4004294872283936\n",
            "Steps: 68000: Generator Loss: 0.6982499361038208, Discriminator Loss:1.380127191543579\n",
            "Steps: 70000: Generator Loss: 0.680451512336731, Discriminator Loss:1.394636631011963\n",
            "Steps: 72000: Generator Loss: 0.704863965511322, Discriminator Loss:1.3759634494781494\n",
            "Steps: 74000: Generator Loss: 0.689417839050293, Discriminator Loss:1.399437427520752\n",
            "Steps: 76000: Generator Loss: 0.6972448825836182, Discriminator Loss:1.3864712715148926\n",
            "Steps: 78000: Generator Loss: 0.6964778304100037, Discriminator Loss:1.4005978107452393\n",
            "Steps: 80000: Generator Loss: 0.6918100714683533, Discriminator Loss:1.3884241580963135\n",
            "Steps: 82000: Generator Loss: 0.6976229548454285, Discriminator Loss:1.3888334035873413\n",
            "Steps: 84000: Generator Loss: 0.6809989213943481, Discriminator Loss:1.4080901145935059\n",
            "Steps: 86000: Generator Loss: 0.6994250416755676, Discriminator Loss:1.3700180053710938\n",
            "Steps: 88000: Generator Loss: 0.6786887049674988, Discriminator Loss:1.4186428785324097\n",
            "Steps: 90000: Generator Loss: 0.6883178353309631, Discriminator Loss:1.408011794090271\n",
            "Steps: 92000: Generator Loss: 0.6956520676612854, Discriminator Loss:1.392744779586792\n",
            "Steps: 94000: Generator Loss: 0.6923149824142456, Discriminator Loss:1.4019873142242432\n",
            "Steps: 96000: Generator Loss: 0.6890888214111328, Discriminator Loss:1.3990867137908936\n",
            "Steps: 98000: Generator Loss: 0.696962833404541, Discriminator Loss:1.3855416774749756\n"
          ],
          "name": "stdout"
        }
      ]
    },
    {
      "cell_type": "code",
      "metadata": {
        "id": "O4NBuJPt2iwm",
        "colab_type": "code",
        "outputId": "b94a0c2f-524a-4f4c-d189-d604c968ba90",
        "colab": {
          "base_uri": "https://localhost:8080/",
          "height": 378
        }
      },
      "source": [
        "#Testing\n",
        "# Generate images from noise, using the generator network\n",
        "test_output, _ = Decoder(z_input)\n",
        "n = 6\n",
        "canvas = np.empty((28*n, 28*n))\n",
        "for i in range(n):\n",
        "  #Noise input\n",
        "  z_noise = np.random.normal(0,1,[batch_size, z_noise_dim])\n",
        "\n",
        "  # Generate image from noise\n",
        "  g = sess.run(test_output, feed_dict = {z_input:z_noise})\n",
        "  # Reverse colors for better display\n",
        "#   g=-1*(g-1)\n",
        "  for j in range(n):\n",
        "    #Draw the generated digits\n",
        "    canvas[i*28:(i+1)*28, j*28:(j+1)*28] = g[j].reshape([28, 28])\n",
        "    \n",
        "plt.figure(figsize = (n,n))\n",
        "plt.imshow(canvas, origin = \"upper\", cmap = \"gray\")\n",
        "plt.show()"
      ],
      "execution_count": 26,
      "outputs": [
        {
          "output_type": "display_data",
          "data": {
            "image/png": "[encoded data removed]",
            "text/plain": [
              "<Figure size 432x432 with 1 Axes>"
            ]
          },
          "metadata": {
            "tags": []
          }
        }
      ]
    },
    {
      "cell_type": "code",
      "metadata": {
        "id": "Ad1rGeTg-ypT",
        "colab_type": "code",
        "colab": {}
      },
      "source": [
        ""
      ],
      "execution_count": 0,
      "outputs": []
    }
  ]
}