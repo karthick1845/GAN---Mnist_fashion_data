{
  "nbformat": 4,
  "nbformat_minor": 0,
  "metadata": {
    "colab": {
      "name": "GANdressMNIST.ipynb",
      "version": "0.3.2",
      "provenance": [],
      "collapsed_sections": []
    },
    "kernelspec": {
      "name": "python3",
      "display_name": "Python 3"
    },
    "accelerator": "GPU"
  },
  "cells": [
    {
      "cell_type": "code",
      "metadata": {
        "id": "UcyoFmSRkVgl",
        "colab_type": "code",
        "outputId": "24a33953-ac25-4417-aca9-99ff7bf985e1",
        "colab": {
          "base_uri": "https://localhost:8080/",
          "height": 818
        }
      },
      "source": [
        "!wget http://fashion-mnist.s3-website.eu-central-1.amazonaws.com/train-images-idx3-ubyte.gz\n",
        "!wget http://fashion-mnist.s3-website.eu-central-1.amazonaws.com/train-labels-idx1-ubyte.gz\n",
        "!wget http://fashion-mnist.s3-website.eu-central-1.amazonaws.com/t10k-images-idx3-ubyte.gz\n",
        "!wget http://fashion-mnist.s3-website.eu-central-1.amazonaws.com/t10k-labels-idx1-ubyte.gz"
      ],
      "execution_count": 1,
      "outputs": [
        {
          "output_type": "stream",
          "text": [
            "--2019-09-02 10:55:48--  http://fashion-mnist.s3-website.eu-central-1.amazonaws.com/train-images-idx3-ubyte.gz\n",
            "Resolving fashion-mnist.s3-website.eu-central-1.amazonaws.com (fashion-mnist.s3-website.eu-central-1.amazonaws.com)... 52.219.72.198\n",
            "Connecting to fashion-mnist.s3-website.eu-central-1.amazonaws.com (fashion-mnist.s3-website.eu-central-1.amazonaws.com)|52.219.72.198|:80... connected.\n",
            "HTTP request sent, awaiting response... 200 OK\n",
            "Length: 26421880 (25M) [binary/octet-stream]\n",
            "Saving to: ‘train-images-idx3-ubyte.gz’\n",
            "\n",
            "\r          train-ima   0%[                    ]       0  --.-KB/s               \r         train-imag  83%[===============>    ]  20.99M   105MB/s               \rtrain-images-idx3-u 100%[===================>]  25.20M   104MB/s    in 0.2s    \n",
            "\n",
            "2019-09-02 10:55:48 (104 MB/s) - ‘train-images-idx3-ubyte.gz’ saved [26421880/26421880]\n",
            "\n",
            "--2019-09-02 10:55:53--  http://fashion-mnist.s3-website.eu-central-1.amazonaws.com/train-labels-idx1-ubyte.gz\n",
            "Resolving fashion-mnist.s3-website.eu-central-1.amazonaws.com (fashion-mnist.s3-website.eu-central-1.amazonaws.com)... 52.219.72.162\n",
            "Connecting to fashion-mnist.s3-website.eu-central-1.amazonaws.com (fashion-mnist.s3-website.eu-central-1.amazonaws.com)|52.219.72.162|:80... connected.\n",
            "HTTP request sent, awaiting response... 200 OK\n",
            "Length: 29515 (29K) [binary/octet-stream]\n",
            "Saving to: ‘train-labels-idx1-ubyte.gz’\n",
            "\n",
            "train-labels-idx1-u 100%[===================>]  28.82K  --.-KB/s    in 0.01s   \n",
            "\n",
            "2019-09-02 10:55:53 (2.82 MB/s) - ‘train-labels-idx1-ubyte.gz’ saved [29515/29515]\n",
            "\n",
            "--2019-09-02 10:55:57--  http://fashion-mnist.s3-website.eu-central-1.amazonaws.com/t10k-images-idx3-ubyte.gz\n",
            "Resolving fashion-mnist.s3-website.eu-central-1.amazonaws.com (fashion-mnist.s3-website.eu-central-1.amazonaws.com)... 52.219.73.54\n",
            "Connecting to fashion-mnist.s3-website.eu-central-1.amazonaws.com (fashion-mnist.s3-website.eu-central-1.amazonaws.com)|52.219.73.54|:80... connected.\n",
            "HTTP request sent, awaiting response... 200 OK\n",
            "Length: 4422102 (4.2M) [binary/octet-stream]\n",
            "Saving to: ‘t10k-images-idx3-ubyte.gz’\n",
            "\n",
            "t10k-images-idx3-ub 100%[===================>]   4.22M  --.-KB/s    in 0.09s   \n",
            "\n",
            "2019-09-02 10:55:57 (46.6 MB/s) - ‘t10k-images-idx3-ubyte.gz’ saved [4422102/4422102]\n",
            "\n",
            "--2019-09-02 10:56:01--  http://fashion-mnist.s3-website.eu-central-1.amazonaws.com/t10k-labels-idx1-ubyte.gz\n",
            "Resolving fashion-mnist.s3-website.eu-central-1.amazonaws.com (fashion-mnist.s3-website.eu-central-1.amazonaws.com)... 52.219.72.178\n",
            "Connecting to fashion-mnist.s3-website.eu-central-1.amazonaws.com (fashion-mnist.s3-website.eu-central-1.amazonaws.com)|52.219.72.178|:80... connected.\n",
            "HTTP request sent, awaiting response... 200 OK\n",
            "Length: 5148 (5.0K) [binary/octet-stream]\n",
            "Saving to: ‘t10k-labels-idx1-ubyte.gz’\n",
            "\n",
            "t10k-labels-idx1-ub 100%[===================>]   5.03K  --.-KB/s    in 0s      \n",
            "\n",
            "2019-09-02 10:56:01 (195 MB/s) - ‘t10k-labels-idx1-ubyte.gz’ saved [5148/5148]\n",
            "\n"
          ],
          "name": "stdout"
        }
      ]
    },
    {
      "cell_type": "code",
      "metadata": {
        "id": "wx26lBNnlSb-",
        "colab_type": "code",
        "outputId": "e4f851ec-7204-4949-c244-c943537ad5e9",
        "colab": {
          "base_uri": "https://localhost:8080/",
          "height": 70
        }
      },
      "source": [
        "!ls"
      ],
      "execution_count": 2,
      "outputs": [
        {
          "output_type": "stream",
          "text": [
            "sample_data\t\t   train-images-idx3-ubyte.gz\n",
            "t10k-images-idx3-ubyte.gz  train-labels-idx1-ubyte.gz\n",
            "t10k-labels-idx1-ubyte.gz\n"
          ],
          "name": "stdout"
        }
      ]
    },
    {
      "cell_type": "code",
      "metadata": {
        "id": "9BazpF0bmJM0",
        "colab_type": "code",
        "colab": {}
      },
      "source": [
        "import numpy as np\n",
        "import tensorflow as tf\n",
        "import matplotlib.pyplot as plt"
      ],
      "execution_count": 0,
      "outputs": []
    },
    {
      "cell_type": "code",
      "metadata": {
        "id": "ac0FYa8Xlede",
        "colab_type": "code",
        "outputId": "8978b4e8-8ec7-42e8-afb1-dc8c45be55b2",
        "colab": {
          "base_uri": "https://localhost:8080/",
          "height": 392
        }
      },
      "source": [
        "!mkdir MNIST_Fashion\n",
        "!cp *.gz MNIST_Fashion/\n",
        "from tensorflow.examples.tutorials.mnist import input_data\n",
        "mnist = input_data.read_data_sets(\"MNIST_Fashion/\")"
      ],
      "execution_count": 4,
      "outputs": [
        {
          "output_type": "stream",
          "text": [
            "WARNING: Logging before flag parsing goes to stderr.\n",
            "W0902 10:56:21.823908 139623493531520 deprecation.py:323] From <ipython-input-4-8b24037dcc55>:4: read_data_sets (from tensorflow.contrib.learn.python.learn.datasets.mnist) is deprecated and will be removed in a future version.\n",
            "Instructions for updating:\n",
            "Please use alternatives such as official/mnist/dataset.py from tensorflow/models.\n",
            "W0902 10:56:21.825902 139623493531520 deprecation.py:323] From /usr/local/lib/python3.6/dist-packages/tensorflow/contrib/learn/python/learn/datasets/mnist.py:260: maybe_download (from tensorflow.contrib.learn.python.learn.datasets.base) is deprecated and will be removed in a future version.\n",
            "Instructions for updating:\n",
            "Please write your own downloading logic.\n",
            "W0902 10:56:21.835679 139623493531520 deprecation.py:323] From /usr/local/lib/python3.6/dist-packages/tensorflow/contrib/learn/python/learn/datasets/mnist.py:262: extract_images (from tensorflow.contrib.learn.python.learn.datasets.mnist) is deprecated and will be removed in a future version.\n",
            "Instructions for updating:\n",
            "Please use tf.data to implement this functionality.\n"
          ],
          "name": "stderr"
        },
        {
          "output_type": "stream",
          "text": [
            "Extracting MNIST_Fashion/train-images-idx3-ubyte.gz\n"
          ],
          "name": "stdout"
        },
        {
          "output_type": "stream",
          "text": [
            "W0902 10:56:22.173902 139623493531520 deprecation.py:323] From /usr/local/lib/python3.6/dist-packages/tensorflow/contrib/learn/python/learn/datasets/mnist.py:267: extract_labels (from tensorflow.contrib.learn.python.learn.datasets.mnist) is deprecated and will be removed in a future version.\n",
            "Instructions for updating:\n",
            "Please use tf.data to implement this functionality.\n",
            "W0902 10:56:22.236248 139623493531520 deprecation.py:323] From /usr/local/lib/python3.6/dist-packages/tensorflow/contrib/learn/python/learn/datasets/mnist.py:290: DataSet.__init__ (from tensorflow.contrib.learn.python.learn.datasets.mnist) is deprecated and will be removed in a future version.\n",
            "Instructions for updating:\n",
            "Please use alternatives such as official/mnist/dataset.py from tensorflow/models.\n"
          ],
          "name": "stderr"
        },
        {
          "output_type": "stream",
          "text": [
            "Extracting MNIST_Fashion/train-labels-idx1-ubyte.gz\n",
            "Extracting MNIST_Fashion/t10k-images-idx3-ubyte.gz\n",
            "Extracting MNIST_Fashion/t10k-labels-idx1-ubyte.gz\n"
          ],
          "name": "stdout"
        }
      ]
    },
    {
      "cell_type": "code",
      "metadata": {
        "id": "XMupEFAhmh6S",
        "colab_type": "code",
        "colab": {}
      },
      "source": [
        "#Training PArams\n",
        "learning_rate = 0.0002\n",
        "batch_size = 128\n",
        "epochs = 100000\n",
        "\n",
        "#Network params\n",
        "image_dim = 784 #img sz is 28x28\n",
        "gen_hidd_dim = 256\n",
        "disc_hidd_dim  = 256\n",
        "z_noise_dim = 100\n",
        "\n",
        "def xavier_init(shape):\n",
        "  return tf.random_normal(shape = shape, stddev= 1./tf.sqrt(shape[0]/2.0))"
      ],
      "execution_count": 0,
      "outputs": []
    },
    {
      "cell_type": "code",
      "metadata": {
        "id": "YZT-GzeQtaQN",
        "colab_type": "code",
        "colab": {}
      },
      "source": [
        "weights = {\n",
        "    \"disc_H\" : tf.Variable(xavier_init([image_dim, disc_hidd_dim])),\n",
        "    \"disc_final\": tf.Variable(xavier_init([disc_hidd_dim,1])),\n",
        "    \"gen_H\": tf.Variable(xavier_init([z_noise_dim, gen_hidd_dim])),\n",
        "    \"gen_final\": tf.Variable(xavier_init([gen_hidd_dim, image_dim]))\n",
        "}\n",
        "\n",
        "bias = {\n",
        "    \"disc_H\" : tf.Variable(xavier_init([disc_hidd_dim])),\n",
        "    \"disc_final\": tf.Variable(xavier_init([1])),\n",
        "    \"gen_H\": tf.Variable(xavier_init([gen_hidd_dim])),\n",
        "    \"gen_final\": tf.Variable(xavier_init([image_dim]))\n",
        "}"
      ],
      "execution_count": 0,
      "outputs": []
    },
    {
      "cell_type": "code",
      "metadata": {
        "id": "Od--kA7nvAch",
        "colab_type": "code",
        "colab": {}
      },
      "source": [
        "def Discriminator(x):\n",
        "  hidden_layer = tf.nn.relu(tf.add(tf.matmul(x, weights[\"disc_H\"]), bias[\"disc_H\"]))\n",
        "  final_layer = (tf.add(tf.matmul(hidden_layer, weights[\"disc_final\"]), bias[\"disc_final\"]))\n",
        "  disc_output = tf.nn.sigmoid(final_layer)\n",
        "  return final_layer, disc_output\n",
        "  "
      ],
      "execution_count": 0,
      "outputs": []
    },
    {
      "cell_type": "code",
      "metadata": {
        "id": "96s5eXy8wELi",
        "colab_type": "code",
        "colab": {}
      },
      "source": [
        "#Generator NW\n",
        "def Generator(x):\n",
        "  hidden_layer = tf.nn.relu(tf.add(tf.matmul(x, weights[\"gen_H\"]), bias[\"gen_H\"]))\n",
        "  final_layer = (tf.add(tf.matmul(hidden_layer, weights[\"gen_final\"]), bias[\"gen_final\"]))\n",
        "  gen_output = tf.nn.sigmoid(final_layer)\n",
        "  return gen_output\n",
        "  "
      ],
      "execution_count": 0,
      "outputs": []
    },
    {
      "cell_type": "code",
      "metadata": {
        "id": "uWg-TWTDwsK1",
        "colab_type": "code",
        "colab": {}
      },
      "source": [
        "#define placeholders for external input\n",
        "\n",
        "z_input = tf.placeholder(tf.float32, shape = [None, z_noise_dim], name = \"input_noise\")\n",
        "x_input = tf.placeholder(tf.float32, shape = [None, image_dim], name = \"real_noise\")\n"
      ],
      "execution_count": 0,
      "outputs": []
    },
    {
      "cell_type": "code",
      "metadata": {
        "id": "vfq_esohxQOo",
        "colab_type": "code",
        "colab": {}
      },
      "source": [
        "# building the GEN NW\n",
        "with tf.name_scope(\"Generator\") as scope:\n",
        "  output_Gen = Generator(z_input) #G(z)\n",
        " \n",
        " # Building the Disc NW\n",
        "with tf.name_scope(\"Generator\") as scope:\n",
        "  real_output1_Disc, real_output_disc = Discriminator(x_input) #implements D(x)\n",
        "  fake_output1_Disc, fake_output_disc = Discriminator(output_Gen) # implements D(G(x))\n",
        "\n"
      ],
      "execution_count": 0,
      "outputs": []
    },
    {
      "cell_type": "code",
      "metadata": {
        "id": "09_G-6jyyxIl",
        "colab_type": "code",
        "colab": {}
      },
      "source": [
        "#first kind of loss\n",
        "with tf.name_scope(\"Discriminator_Loss\") as scope:\n",
        "  Discriminator_Loss = -tf.reduce_mean(tf.log(real_output_disc+ 0.0001)+tf.log(1.- fake_output_disc+0.0001))\n",
        "  \n",
        "with tf.name_scope(\"Genetator_Loss\") as scope:\n",
        "  Generator_Loss = -tf.reduce_mean(tf.log(fake_output_disc+ 0.0001)) # due to max log(D(G(x)))\n",
        "\n",
        "  # T-board summary\n",
        "  \n",
        "  Disc_loss_total = tf.summary.scalar(\"Disc_Total_loss\", Discriminator_Loss)\n",
        "  Gen_loss_total = tf.summary.scalar(\"Gen_loss\", Generator_Loss)\n"
      ],
      "execution_count": 0,
      "outputs": []
    },
    {
      "cell_type": "code",
      "metadata": {
        "id": "beVetM5N1xsX",
        "colab_type": "code",
        "colab": {}
      },
      "source": [
        "#second kind of loss\n",
        "with tf.name_scope(\"Discriminator_Loss\") as scope:\n",
        "  Disc_real_loss = tf.reduce_mean(tf.nn.sigmoid_cross_entropy_with_logits(logits = real_output1_Disc, labels = tf.ones_like(real_output1_Disc)))\n",
        "  Disc_fake_loss = tf.reduce_mean(tf.nn.sigmoid_cross_entropy_with_logits(logits = fake_output1_Disc, labels = tf.zeros_like(fake_output1_Disc)))\n",
        "  Discriminator_Loss = Disc_real_loss + Disc_fake_loss\n",
        "\n",
        "  \n",
        "with tf.name_scope(\"Genetator_Loss\") as scope:\n",
        "  Generator_Loss = tf.reduce_mean(tf.nn.sigmoid_cross_entropy_with_logits(logits = fake_output1_Disc, labels = tf.ones_like(fake_output1_Disc)))\n",
        "  \n",
        "  # Tensorboarf summary\n",
        "  \n",
        "Disc_loss_real_summary = tf.summary.scalar('Disc_loss_real', Disc_real_loss)\n",
        "Disc_loss_fake_summary = tf.summary.scalar('Disc_loss_fake', Disc_fake_loss)\n",
        "Disc_loss_summary = tf.summary.scalar('Disc_total_loss', Discriminator_Loss)\n",
        "\n",
        "Disc_loss_total = tf.summary.merge([Disc_loss_real_summary, Disc_loss_fake_summary, Disc_loss_summary])\n",
        "Gen_loss_total = tf.summary.scalar('Gen_loss', Generator_Loss)\n",
        "\n",
        "\n"
      ],
      "execution_count": 0,
      "outputs": []
    },
    {
      "cell_type": "code",
      "metadata": {
        "id": "DmvjYQaKuXpi",
        "colab_type": "code",
        "colab": {}
      },
      "source": [
        "# Define the variables\n",
        "\n",
        "Generator_var = [weights[\"gen_H\"], weights[\"gen_final\"], bias[\"gen_H\"], bias[\"gen_final\"]]\n",
        "Discriminator_var = [weights[\"disc_H\"], weights[\"disc_final\"], bias[\"disc_H\"], bias[\"disc_final\"]]\n",
        "\n",
        "#Define the optimizer\n",
        "with tf.name_scope(\"Optimizer_Discriminator\") as scope:\n",
        "  Discriminator_optimize = tf.train.AdamOptimizer(learning_rate = learning_rate).minimize(Discriminator_Loss, var_list = Discriminator_var)\n",
        "\n",
        "with tf.name_scope(\"Optimizer_Generator\") as scope:\n",
        "  Generator_optimize = tf.train.AdamOptimizer(learning_rate = learning_rate).minimize(Generator_Loss, var_list = Generator_var)\n",
        "  "
      ],
      "execution_count": 0,
      "outputs": []
    },
    {
      "cell_type": "code",
      "metadata": {
        "id": "B6nBmWh6wLLq",
        "colab_type": "code",
        "colab": {
          "base_uri": "https://localhost:8080/",
          "height": 905
        },
        "outputId": "7ea7c1b3-a324-45ac-bef2-0861bca96bb6"
      },
      "source": [
        "# Initialize the variables\n",
        "\n",
        "init = tf.global_variables_initializer()\n",
        "sess = tf.Session()\n",
        "\n",
        "sess.run(init)\n",
        "writer = tf.summary.FileWriter(\"./log\", sess.graph)\n",
        "\n",
        "for epoch in range(epochs):\n",
        "  x_batch, _ = mnist.train.next_batch(batch_size)\n",
        "  \n",
        "  #Generate noise to feed Discriminator\n",
        "  z_noise = np.random.uniform(-1.,1.,size = [batch_size, z_noise_dim])\n",
        "  _, Disc_loss_epoch = sess.run([Discriminator_optimize, Discriminator_Loss], feed_dict = {x_input:x_batch, z_input:z_noise})\n",
        "  _, Gen_loss_epoch = sess.run([Generator_optimize, Generator_Loss], feed_dict = {z_input:z_noise})  \n",
        "  \n",
        "  #Running the Discriminator summary\n",
        "  summary_Disc_loss = sess.run(Disc_loss_total, feed_dict = {x_input:x_batch, z_input:z_noise})\n",
        "  # Adding the Discriminator summary\n",
        "  writer.add_summary(summary_Disc_loss, epoch)\n",
        "  \n",
        "  #Running the Generator summary\n",
        "  summary_Gen_loss = sess.run(Gen_loss_total, feed_dict = {z_input:z_noise})\n",
        "  # Adding the Generator summary\n",
        "  writer.add_summary(summary_Gen_loss, epoch)\n",
        "  \n",
        "  if epoch % 2000 == 0:\n",
        "    print(\"Steps: {0}: Generator Loss: {1}, Discriminator Loss:{2}\".format(epoch, Gen_loss_epoch, Disc_loss_epoch))\n",
        "  \n",
        "  \n"
      ],
      "execution_count": 20,
      "outputs": [
        {
          "output_type": "stream",
          "text": [
            "Steps: 0: Generator Loss: 0.2859601676464081, Discriminator Loss:2.233637571334839\n",
            "Steps: 2000: Generator Loss: 3.0023133754730225, Discriminator Loss:0.2748841345310211\n",
            "Steps: 4000: Generator Loss: 2.8812737464904785, Discriminator Loss:0.28830602765083313\n",
            "Steps: 6000: Generator Loss: 3.231123924255371, Discriminator Loss:0.2344113290309906\n",
            "Steps: 8000: Generator Loss: 2.633310079574585, Discriminator Loss:0.31073784828186035\n",
            "Steps: 10000: Generator Loss: 2.414632797241211, Discriminator Loss:0.4111747741699219\n",
            "Steps: 12000: Generator Loss: 2.3037047386169434, Discriminator Loss:0.4018137753009796\n",
            "Steps: 14000: Generator Loss: 2.192345142364502, Discriminator Loss:0.41327720880508423\n",
            "Steps: 16000: Generator Loss: 3.166553497314453, Discriminator Loss:0.35595840215682983\n",
            "Steps: 18000: Generator Loss: 2.51501727104187, Discriminator Loss:0.5612295866012573\n",
            "Steps: 20000: Generator Loss: 2.9820990562438965, Discriminator Loss:0.49208712577819824\n",
            "Steps: 22000: Generator Loss: 2.6812961101531982, Discriminator Loss:0.5584867000579834\n",
            "Steps: 24000: Generator Loss: 2.812584400177002, Discriminator Loss:0.41504138708114624\n",
            "Steps: 26000: Generator Loss: 2.933314323425293, Discriminator Loss:0.4651210606098175\n",
            "Steps: 28000: Generator Loss: 2.1647796630859375, Discriminator Loss:0.7624726295471191\n",
            "Steps: 30000: Generator Loss: 2.664511203765869, Discriminator Loss:0.6443354487419128\n",
            "Steps: 32000: Generator Loss: 2.3114120960235596, Discriminator Loss:0.5428123474121094\n",
            "Steps: 34000: Generator Loss: 2.532151699066162, Discriminator Loss:0.8082764148712158\n",
            "Steps: 36000: Generator Loss: 2.4026713371276855, Discriminator Loss:0.7856625318527222\n",
            "Steps: 38000: Generator Loss: 2.313305139541626, Discriminator Loss:0.635770857334137\n",
            "Steps: 40000: Generator Loss: 1.9234436750411987, Discriminator Loss:0.7314289808273315\n",
            "Steps: 42000: Generator Loss: 1.8774704933166504, Discriminator Loss:0.8333190679550171\n",
            "Steps: 44000: Generator Loss: 2.3576712608337402, Discriminator Loss:0.5700790882110596\n",
            "Steps: 46000: Generator Loss: 2.2355618476867676, Discriminator Loss:0.8112173080444336\n",
            "Steps: 48000: Generator Loss: 2.9110002517700195, Discriminator Loss:0.5595995783805847\n",
            "Steps: 50000: Generator Loss: 2.230238676071167, Discriminator Loss:0.621875524520874\n",
            "Steps: 52000: Generator Loss: 1.6985931396484375, Discriminator Loss:0.9084687232971191\n",
            "Steps: 54000: Generator Loss: 2.407982587814331, Discriminator Loss:0.830478310585022\n",
            "Steps: 56000: Generator Loss: 2.0505809783935547, Discriminator Loss:0.7255258560180664\n",
            "Steps: 58000: Generator Loss: 2.6849453449249268, Discriminator Loss:0.7400216460227966\n",
            "Steps: 60000: Generator Loss: 2.7776036262512207, Discriminator Loss:0.8257851600646973\n",
            "Steps: 62000: Generator Loss: 1.8865808248519897, Discriminator Loss:0.749656617641449\n",
            "Steps: 64000: Generator Loss: 2.1922802925109863, Discriminator Loss:0.8696221113204956\n",
            "Steps: 66000: Generator Loss: 1.8173532485961914, Discriminator Loss:0.8903434872627258\n",
            "Steps: 68000: Generator Loss: 2.6272659301757812, Discriminator Loss:0.6751720905303955\n",
            "Steps: 70000: Generator Loss: 1.8914060592651367, Discriminator Loss:0.79111248254776\n",
            "Steps: 72000: Generator Loss: 2.5205678939819336, Discriminator Loss:0.6208642721176147\n",
            "Steps: 74000: Generator Loss: 2.4295969009399414, Discriminator Loss:0.8749495148658752\n",
            "Steps: 76000: Generator Loss: 2.1805500984191895, Discriminator Loss:0.8991968631744385\n",
            "Steps: 78000: Generator Loss: 2.5251080989837646, Discriminator Loss:0.9849644899368286\n",
            "Steps: 80000: Generator Loss: 1.9961838722229004, Discriminator Loss:0.8828095197677612\n",
            "Steps: 82000: Generator Loss: 2.280056953430176, Discriminator Loss:0.742890477180481\n",
            "Steps: 84000: Generator Loss: 2.3696675300598145, Discriminator Loss:0.9417824745178223\n",
            "Steps: 86000: Generator Loss: 1.7252144813537598, Discriminator Loss:0.9523500204086304\n",
            "Steps: 88000: Generator Loss: 2.180276870727539, Discriminator Loss:0.8354692459106445\n",
            "Steps: 90000: Generator Loss: 2.030958652496338, Discriminator Loss:1.0317438840866089\n",
            "Steps: 92000: Generator Loss: 2.4610633850097656, Discriminator Loss:0.8401101231575012\n",
            "Steps: 94000: Generator Loss: 2.000363826751709, Discriminator Loss:1.1329814195632935\n",
            "Steps: 96000: Generator Loss: 1.5011600255966187, Discriminator Loss:0.9772607088088989\n",
            "Steps: 98000: Generator Loss: 2.447108268737793, Discriminator Loss:0.8664214015007019\n"
          ],
          "name": "stdout"
        }
      ]
    },
    {
      "cell_type": "code",
      "metadata": {
        "id": "O4NBuJPt2iwm",
        "colab_type": "code",
        "colab": {
          "base_uri": "https://localhost:8080/",
          "height": 377
        },
        "outputId": "2fb4ba2f-fe32-4241-c7d7-3aeea60ecc44"
      },
      "source": [
        "#Testing\n",
        "# Generate images from noise, using the generator network\n",
        "\n",
        "n = 6\n",
        "canvas = np.empty((28*n, 28*n))\n",
        "for i in range(n):\n",
        "  #Noise input\n",
        "  z_noise = np.random.uniform(-1.,1., size = [batch_size, z_noise_dim])\n",
        "  # Generate image from noise\n",
        "  g = sess.run(output_Gen, feed_dict = {z_input:z_noise})\n",
        "  # Reverse colors for better display\n",
        "  g=-1*(g-1)\n",
        "  for j in range(n):\n",
        "    #Draw the generated digits\n",
        "    canvas[i*28:(i+1)*28, j*28:(j+1)*28] = g[j].reshape([28, 28])\n",
        "    \n",
        "plt.figure(figsize = (n,n))\n",
        "plt.imshow(canvas, origin = \"upper\", cmap = \"gray\")\n",
        "plt.show()"
      ],
      "execution_count": 23,
      "outputs": [
        {
          "output_type": "display_data",
          "data": {
            "image/png": "[encoded data removed]",
            "text/plain": [
              "<Figure size 432x432 with 1 Axes>"
            ]
          },
          "metadata": {
            "tags": []
          }
        }
      ]
    },
    {
      "cell_type": "code",
      "metadata": {
        "id": "Ad1rGeTg-ypT",
        "colab_type": "code",
        "colab": {}
      },
      "source": [
        ""
      ],
      "execution_count": 0,
      "outputs": []
    }
  ]
}