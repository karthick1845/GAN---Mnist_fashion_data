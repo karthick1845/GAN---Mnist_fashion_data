{
  "nbformat": 4,
  "nbformat_minor": 0,
  "metadata": {
    "colab": {
      "name": "W_GAN_dressGen.ipynb",
      "provenance": [],
      "collapsed_sections": []
    },
    "kernelspec": {
      "name": "python3",
      "display_name": "Python 3"
    },
    "accelerator": "GPU"
  },
  "cells": [
    {
      "cell_type": "code",
      "metadata": {
        "id": "UcyoFmSRkVgl",
        "colab_type": "code",
        "outputId": "b05d5d4e-7f95-4e4d-fb8e-9ae77a0aa4cc",
        "colab": {
          "base_uri": "https://localhost:8080/",
          "height": 765
        }
      },
      "source": [
        "!wget http://fashion-mnist.s3-website.eu-central-1.amazonaws.com/train-images-idx3-ubyte.gz\n",
        "!wget http://fashion-mnist.s3-website.eu-central-1.amazonaws.com/train-labels-idx1-ubyte.gz\n",
        "!wget http://fashion-mnist.s3-website.eu-central-1.amazonaws.com/t10k-images-idx3-ubyte.gz\n",
        "!wget http://fashion-mnist.s3-website.eu-central-1.amazonaws.com/t10k-labels-idx1-ubyte.gz"
      ],
      "execution_count": 1,
      "outputs": [
        {
          "output_type": "stream",
          "text": [
            "--2019-09-26 11:50:00--  http://fashion-mnist.s3-website.eu-central-1.amazonaws.com/train-images-idx3-ubyte.gz\n",
            "Resolving fashion-mnist.s3-website.eu-central-1.amazonaws.com (fashion-mnist.s3-website.eu-central-1.amazonaws.com)... 52.219.72.82\n",
            "Connecting to fashion-mnist.s3-website.eu-central-1.amazonaws.com (fashion-mnist.s3-website.eu-central-1.amazonaws.com)|52.219.72.82|:80... connected.\n",
            "HTTP request sent, awaiting response... 200 OK\n",
            "Length: 26421880 (25M) [binary/octet-stream]\n",
            "Saving to: ‘train-images-idx3-ubyte.gz’\n",
            "\n",
            "train-images-idx3-u 100%[===================>]  25.20M  6.49MB/s    in 3.9s    \n",
            "\n",
            "2019-09-26 11:50:05 (6.49 MB/s) - ‘train-images-idx3-ubyte.gz’ saved [26421880/26421880]\n",
            "\n",
            "--2019-09-26 11:50:11--  http://fashion-mnist.s3-website.eu-central-1.amazonaws.com/train-labels-idx1-ubyte.gz\n",
            "Resolving fashion-mnist.s3-website.eu-central-1.amazonaws.com (fashion-mnist.s3-website.eu-central-1.amazonaws.com)... 52.219.74.154\n",
            "Connecting to fashion-mnist.s3-website.eu-central-1.amazonaws.com (fashion-mnist.s3-website.eu-central-1.amazonaws.com)|52.219.74.154|:80... connected.\n",
            "HTTP request sent, awaiting response... 200 OK\n",
            "Length: 29515 (29K) [binary/octet-stream]\n",
            "Saving to: ‘train-labels-idx1-ubyte.gz’\n",
            "\n",
            "train-labels-idx1-u 100%[===================>]  28.82K   113KB/s    in 0.3s    \n",
            "\n",
            "2019-09-26 11:50:12 (113 KB/s) - ‘train-labels-idx1-ubyte.gz’ saved [29515/29515]\n",
            "\n",
            "--2019-09-26 11:50:22--  http://fashion-mnist.s3-website.eu-central-1.amazonaws.com/t10k-images-idx3-ubyte.gz\n",
            "Resolving fashion-mnist.s3-website.eu-central-1.amazonaws.com (fashion-mnist.s3-website.eu-central-1.amazonaws.com)... 52.219.72.54\n",
            "Connecting to fashion-mnist.s3-website.eu-central-1.amazonaws.com (fashion-mnist.s3-website.eu-central-1.amazonaws.com)|52.219.72.54|:80... connected.\n",
            "HTTP request sent, awaiting response... 200 OK\n",
            "Length: 4422102 (4.2M) [binary/octet-stream]\n",
            "Saving to: ‘t10k-images-idx3-ubyte.gz’\n",
            "\n",
            "t10k-images-idx3-ub 100%[===================>]   4.22M  2.06MB/s    in 2.0s    \n",
            "\n",
            "2019-09-26 11:50:24 (2.06 MB/s) - ‘t10k-images-idx3-ubyte.gz’ saved [4422102/4422102]\n",
            "\n",
            "--2019-09-26 11:50:29--  http://fashion-mnist.s3-website.eu-central-1.amazonaws.com/t10k-labels-idx1-ubyte.gz\n",
            "Resolving fashion-mnist.s3-website.eu-central-1.amazonaws.com (fashion-mnist.s3-website.eu-central-1.amazonaws.com)... 52.219.72.162\n",
            "Connecting to fashion-mnist.s3-website.eu-central-1.amazonaws.com (fashion-mnist.s3-website.eu-central-1.amazonaws.com)|52.219.72.162|:80... connected.\n",
            "HTTP request sent, awaiting response... 200 OK\n",
            "Length: 5148 (5.0K) [binary/octet-stream]\n",
            "Saving to: ‘t10k-labels-idx1-ubyte.gz’\n",
            "\n",
            "t10k-labels-idx1-ub 100%[===================>]   5.03K  --.-KB/s    in 0s      \n",
            "\n",
            "2019-09-26 11:50:29 (454 MB/s) - ‘t10k-labels-idx1-ubyte.gz’ saved [5148/5148]\n",
            "\n"
          ],
          "name": "stdout"
        }
      ]
    },
    {
      "cell_type": "code",
      "metadata": {
        "id": "wx26lBNnlSb-",
        "colab_type": "code",
        "outputId": "15987745-6288-4e35-cdd2-7d25dc44d045",
        "colab": {
          "base_uri": "https://localhost:8080/",
          "height": 68
        }
      },
      "source": [
        "!ls"
      ],
      "execution_count": 2,
      "outputs": [
        {
          "output_type": "stream",
          "text": [
            "sample_data\t\t   train-images-idx3-ubyte.gz\n",
            "t10k-images-idx3-ubyte.gz  train-labels-idx1-ubyte.gz\n",
            "t10k-labels-idx1-ubyte.gz\n"
          ],
          "name": "stdout"
        }
      ]
    },
    {
      "cell_type": "code",
      "metadata": {
        "id": "9BazpF0bmJM0",
        "colab_type": "code",
        "colab": {}
      },
      "source": [
        "import numpy as np\n",
        "import tensorflow as tf\n",
        "import matplotlib.pyplot as plt\n",
        "import matplotlib.gridspec as gridspec"
      ],
      "execution_count": 0,
      "outputs": []
    },
    {
      "cell_type": "code",
      "metadata": {
        "id": "ac0FYa8Xlede",
        "colab_type": "code",
        "outputId": "344b6b88-25a0-4d3f-8d45-4cc73c180829",
        "colab": {
          "base_uri": "https://localhost:8080/",
          "height": 360
        }
      },
      "source": [
        "!mkdir MNIST_Fashion\n",
        "!cp *.gz MNIST_Fashion/\n",
        "from tensorflow.examples.tutorials.mnist import input_data\n",
        "mnist = input_data.read_data_sets(\"MNIST_Fashion/\")"
      ],
      "execution_count": 4,
      "outputs": [
        {
          "output_type": "stream",
          "text": [
            "WARNING:tensorflow:From <ipython-input-4-8b24037dcc55>:4: read_data_sets (from tensorflow.contrib.learn.python.learn.datasets.mnist) is deprecated and will be removed in a future version.\n",
            "Instructions for updating:\n",
            "Please use alternatives such as official/mnist/dataset.py from tensorflow/models.\n",
            "WARNING:tensorflow:From /usr/local/lib/python3.6/dist-packages/tensorflow/contrib/learn/python/learn/datasets/mnist.py:260: maybe_download (from tensorflow.contrib.learn.python.learn.datasets.base) is deprecated and will be removed in a future version.\n",
            "Instructions for updating:\n",
            "Please write your own downloading logic.\n",
            "WARNING:tensorflow:From /usr/local/lib/python3.6/dist-packages/tensorflow/contrib/learn/python/learn/datasets/mnist.py:262: extract_images (from tensorflow.contrib.learn.python.learn.datasets.mnist) is deprecated and will be removed in a future version.\n",
            "Instructions for updating:\n",
            "Please use tf.data to implement this functionality.\n",
            "Extracting MNIST_Fashion/train-images-idx3-ubyte.gz\n",
            "WARNING:tensorflow:From /usr/local/lib/python3.6/dist-packages/tensorflow/contrib/learn/python/learn/datasets/mnist.py:267: extract_labels (from tensorflow.contrib.learn.python.learn.datasets.mnist) is deprecated and will be removed in a future version.\n",
            "Instructions for updating:\n",
            "Please use tf.data to implement this functionality.\n",
            "Extracting MNIST_Fashion/train-labels-idx1-ubyte.gz\n",
            "Extracting MNIST_Fashion/t10k-images-idx3-ubyte.gz\n",
            "Extracting MNIST_Fashion/t10k-labels-idx1-ubyte.gz\n",
            "WARNING:tensorflow:From /usr/local/lib/python3.6/dist-packages/tensorflow/contrib/learn/python/learn/datasets/mnist.py:290: DataSet.__init__ (from tensorflow.contrib.learn.python.learn.datasets.mnist) is deprecated and will be removed in a future version.\n",
            "Instructions for updating:\n",
            "Please use alternatives such as official/mnist/dataset.py from tensorflow/models.\n"
          ],
          "name": "stdout"
        }
      ]
    },
    {
      "cell_type": "code",
      "metadata": {
        "id": "XMupEFAhmh6S",
        "colab_type": "code",
        "colab": {}
      },
      "source": [
        "#Training PArams\n",
        "learning_rate = 0.0002\n",
        "batch_size = 128\n",
        "epochs = 100000\n",
        "\n",
        "#Network params\n",
        "image_dim = 784 #img sz is 28x28\n",
        "Y_dimension = 10 # The number of classes\n",
        "gen_hidd_dim = 256\n",
        "disc_hidd_dim  = 256\n",
        "z_noise_dim = 100\n",
        "\n",
        "def xavier_init(shape):\n",
        "  return tf.random_normal(shape = shape, stddev= 1./tf.sqrt(shape[0]/2.0))"
      ],
      "execution_count": 0,
      "outputs": []
    },
    {
      "cell_type": "code",
      "metadata": {
        "id": "YZT-GzeQtaQN",
        "colab_type": "code",
        "colab": {}
      },
      "source": [
        "weights = {\n",
        "    \"disc_H\" : tf.Variable(xavier_init([image_dim , disc_hidd_dim])),\n",
        "    \"disc_final\": tf.Variable(xavier_init([disc_hidd_dim,1])),\n",
        "    \"gen_H\": tf.Variable(xavier_init([z_noise_dim , gen_hidd_dim])),\n",
        "    \"gen_final\": tf.Variable(xavier_init([gen_hidd_dim, image_dim]))\n",
        "}\n",
        "\n",
        "bias = {\n",
        "    \"disc_H\" : tf.Variable(xavier_init([disc_hidd_dim])),\n",
        "    \"disc_final\": tf.Variable(xavier_init([1])),\n",
        "    \"gen_H\": tf.Variable(xavier_init([gen_hidd_dim])),\n",
        "    \"gen_final\": tf.Variable(xavier_init([image_dim]))\n",
        "}"
      ],
      "execution_count": 0,
      "outputs": []
    },
    {
      "cell_type": "code",
      "metadata": {
        "id": "-hn90CdeTXRg",
        "colab_type": "code",
        "colab": {}
      },
      "source": [
        "#define placeholders for external input\n",
        "\n",
        "z_input = tf.placeholder(tf.float32, shape = [None, z_noise_dim], name = \"input_noise\")\n",
        "x_input = tf.placeholder(tf.float32, shape = [None, image_dim], name = \"real_input\")\n",
        "Y_input = tf.placeholder(tf.float32, shape = [None, Y_dimension], name = \"Labels\")\n",
        "\n"
      ],
      "execution_count": 0,
      "outputs": []
    },
    {
      "cell_type": "code",
      "metadata": {
        "id": "Od--kA7nvAch",
        "colab_type": "code",
        "colab": {}
      },
      "source": [
        "def Discriminator(x):\n",
        "  hidden_layer = tf.nn.relu(tf.add(tf.matmul(x, weights[\"disc_H\"]), bias[\"disc_H\"]))\n",
        "  final_layer = (tf.add(tf.matmul(hidden_layer, weights[\"disc_final\"]), bias[\"disc_final\"]))\n",
        "  disc_output = (final_layer) #NO SIGMOID IN W-GAN\n",
        "  return disc_output\n",
        "  "
      ],
      "execution_count": 0,
      "outputs": []
    },
    {
      "cell_type": "code",
      "metadata": {
        "id": "96s5eXy8wELi",
        "colab_type": "code",
        "colab": {}
      },
      "source": [
        "#Generator NW\n",
        "def Generator(x):\n",
        "  hidden_layer = tf.nn.relu(tf.add(tf.matmul(x, weights[\"gen_H\"]), bias[\"gen_H\"]))\n",
        "  final_layer = (tf.add(tf.matmul(hidden_layer, weights[\"gen_final\"]), bias[\"gen_final\"]))\n",
        "  gen_output = tf.nn.sigmoid(final_layer)\n",
        "  return gen_output\n",
        "  "
      ],
      "execution_count": 0,
      "outputs": []
    },
    {
      "cell_type": "code",
      "metadata": {
        "id": "vfq_esohxQOo",
        "colab_type": "code",
        "colab": {}
      },
      "source": [
        "# building the GEN NW\n",
        "with tf.name_scope(\"Generator\") as scope:\n",
        "  output_Gen = Generator(z_input) \n",
        " \n",
        " # Building the Disc NW\n",
        "with tf.name_scope(\"Generator\") as scope:\n",
        "  real_output_disc = Discriminator(x_input) \n",
        "  fake_output_disc = Discriminator(output_Gen)\n",
        "\n"
      ],
      "execution_count": 0,
      "outputs": []
    },
    {
      "cell_type": "code",
      "metadata": {
        "id": "09_G-6jyyxIl",
        "colab_type": "code",
        "colab": {}
      },
      "source": [
        "#first kind of loss\n",
        "with tf.name_scope(\"Discriminator_Loss\") as scope:\n",
        "  Discriminator_Loss = tf.reduce_mean(real_output_disc)-tf.reduce_mean(fake_output_disc)\n",
        "  \n",
        "with tf.name_scope(\"Genetator_Loss\") as scope:\n",
        "  Generator_Loss = -tf.reduce_mean(fake_output_disc) # due to max log(D(G(x)))\n",
        "\n",
        "  # T-board summary\n",
        "  \n",
        "  Disc_loss_total = tf.summary.scalar(\"Disc_Total_loss\", Discriminator_Loss)\n",
        "  Gen_loss_total = tf.summary.scalar(\"Gen_loss\", Generator_Loss)\n"
      ],
      "execution_count": 0,
      "outputs": []
    },
    {
      "cell_type": "code",
      "metadata": {
        "id": "beVetM5N1xsX",
        "colab_type": "code",
        "colab": {}
      },
      "source": [
        "# #second kind of loss\n",
        "# with tf.name_scope(\"Discriminator_Loss\") as scope:\n",
        "#   Disc_real_loss = tf.reduce_mean(tf.nn.sigmoid_cross_entropy_with_logits(logits = real_output1_Disc, labels = tf.ones_like(real_output1_Disc)))\n",
        "#   Disc_fake_loss = tf.reduce_mean(tf.nn.sigmoid_cross_entropy_with_logits(logits = fake_output1_Disc, labels = tf.zeros_like(fake_output1_Disc)))\n",
        "#   Discriminator_Loss = Disc_real_loss + Disc_fake_loss\n",
        "\n",
        "  \n",
        "# with tf.name_scope(\"Genetator_Loss\") as scope:\n",
        "#   Generator_Loss = tf.reduce_mean(tf.nn.sigmoid_cross_entropy_with_logits(logits = fake_output1_Disc, labels = tf.ones_like(fake_output1_Disc)))\n",
        "  \n",
        "#   # Tensorboarf summary\n",
        "  \n",
        "# Disc_loss_real_summary = tf.summary.scalar('Disc_loss_real', Disc_real_loss)\n",
        "# Disc_loss_fake_summary = tf.summary.scalar('Disc_loss_fake', Disc_fake_loss)\n",
        "# Disc_loss_summary = tf.summary.scalar('Disc_total_loss', Discriminator_Loss)\n",
        "\n",
        "# Disc_loss_total = tf.summary.merge([Disc_loss_real_summary, Disc_loss_fake_summary, Disc_loss_summary])\n",
        "# Gen_loss_total = tf.summary.scalar('Gen_loss', Generator_Loss)\n",
        "\n",
        "\n"
      ],
      "execution_count": 0,
      "outputs": []
    },
    {
      "cell_type": "code",
      "metadata": {
        "id": "DmvjYQaKuXpi",
        "colab_type": "code",
        "colab": {
          "base_uri": "https://localhost:8080/",
          "height": 88
        },
        "outputId": "ff1ea951-2647-4c49-d4cd-9f70a433e019"
      },
      "source": [
        "  # Define the variables\n",
        "\n",
        "Generator_var = [weights[\"gen_H\"], weights[\"gen_final\"], bias[\"gen_H\"], bias[\"gen_final\"]]\n",
        "Discriminator_var = [weights[\"disc_H\"], weights[\"disc_final\"], bias[\"disc_H\"], bias[\"disc_final\"]]\n",
        "\n",
        "#Define the optimizer\n",
        "with tf.name_scope(\"Optimizer_Discriminator\") as scope:\n",
        "  Discriminator_optimize = tf.train.RMSPropOptimizer(learning_rate = learning_rate).minimize(-Discriminator_Loss, var_list = Discriminator_var)\n",
        "\n",
        "with tf.name_scope(\"Optimizer_Generator\") as scope:\n",
        "  Generator_optimize = tf.train.RMSPropOptimizer(learning_rate = learning_rate).minimize(Generator_Loss, var_list = Generator_var)\n",
        "  \n",
        "# Clipping of the Discriminator(critic) parameter\n",
        "clip_disc_param = [p.assign(tf.clip_by_value(p, -0.01, 0.01)) for p in Discriminator_var] # Lipshutz continuity\n",
        "  "
      ],
      "execution_count": 19,
      "outputs": [
        {
          "output_type": "stream",
          "text": [
            "WARNING:tensorflow:From /usr/local/lib/python3.6/dist-packages/tensorflow/python/training/rmsprop.py:119: calling Ones.__init__ (from tensorflow.python.ops.init_ops) with dtype is deprecated and will be removed in a future version.\n",
            "Instructions for updating:\n",
            "Call initializer instance with the dtype argument instead of passing it to the constructor\n"
          ],
          "name": "stdout"
        }
      ]
    },
    {
      "cell_type": "code",
      "metadata": {
        "id": "B6nBmWh6wLLq",
        "colab_type": "code",
        "outputId": "f217e281-9240-4693-f0a7-a3c3c9bac33d",
        "colab": {
          "base_uri": "https://localhost:8080/",
          "height": 867
        }
      },
      "source": [
        "# Initialize the variables\n",
        "\n",
        "init = tf.global_variables_initializer()\n",
        "sess = tf.Session()\n",
        "\n",
        "sess.run(init)\n",
        "writer = tf.summary.FileWriter(\"./log\", sess.graph)\n",
        "\n",
        "for epoch in range(epochs):\n",
        "  \n",
        "  for _ in range(5): # Training Discriminator more as compared to Gen thus n=5 times\n",
        "    x_batch, _ = mnist.train.next_batch(batch_size)\n",
        "    #Generate noise to feed Discriminator\n",
        "    z_noise = np.random.uniform(-1.,1.,size = [batch_size, z_noise_dim])\n",
        "    _, Disc_loss_epoch, clipping_D = sess.run([Discriminator_optimize, Discriminator_Loss, clip_disc_param], feed_dict = {x_input:x_batch, z_input:z_noise})\n",
        "  \n",
        "  \n",
        "  _, Gen_loss_epoch = sess.run([Generator_optimize, Generator_Loss], feed_dict = {z_input:z_noise})  \n",
        "  \n",
        "  #Running the Discriminator summary\n",
        "  summary_Disc_loss = sess.run(Disc_loss_total, feed_dict = {x_input:x_batch, z_input:z_noise})\n",
        "  # Adding the Discriminator summary\n",
        "  writer.add_summary(summary_Disc_loss, epoch)\n",
        "  \n",
        "  #Running the Generator summary\n",
        "  summary_Gen_loss = sess.run(Gen_loss_total, feed_dict = {z_input:z_noise})\n",
        "  # Adding the Generator summary\n",
        "  writer.add_summary(summary_Gen_loss, epoch)\n",
        "  \n",
        "  if epoch % 2000 == 0:\n",
        "    print(\"Steps: {0}: Generator Loss: {1}, Discriminator Loss:{2}\".format(epoch, Gen_loss_epoch, Disc_loss_epoch))\n",
        "  \n",
        "  \n"
      ],
      "execution_count": 20,
      "outputs": [
        {
          "output_type": "stream",
          "text": [
            "Steps: 0: Generator Loss: -0.023887667804956436, Discriminator Loss:-0.0038589034229516983\n",
            "Steps: 2000: Generator Loss: -0.31157830357551575, Discriminator Loss:0.026659011840820312\n",
            "Steps: 4000: Generator Loss: -0.10638358443975449, Discriminator Loss:0.01324254460632801\n",
            "Steps: 6000: Generator Loss: 0.324923038482666, Discriminator Loss:0.031112223863601685\n",
            "Steps: 8000: Generator Loss: 0.20711688697338104, Discriminator Loss:0.01455014944076538\n",
            "Steps: 10000: Generator Loss: 0.177816241979599, Discriminator Loss:-0.014074623584747314\n",
            "Steps: 12000: Generator Loss: -0.2827920913696289, Discriminator Loss:0.003461509943008423\n",
            "Steps: 14000: Generator Loss: 0.6470275521278381, Discriminator Loss:-0.025451302528381348\n",
            "Steps: 16000: Generator Loss: -0.19246512651443481, Discriminator Loss:0.012396514415740967\n",
            "Steps: 18000: Generator Loss: 0.07581478357315063, Discriminator Loss:0.0021575093269348145\n",
            "Steps: 20000: Generator Loss: 0.3721214532852173, Discriminator Loss:0.007981479167938232\n",
            "Steps: 22000: Generator Loss: 0.6756060719490051, Discriminator Loss:0.006278097629547119\n",
            "Steps: 24000: Generator Loss: -0.3256262540817261, Discriminator Loss:0.02550417184829712\n",
            "Steps: 26000: Generator Loss: -0.44009050726890564, Discriminator Loss:-0.011817574501037598\n",
            "Steps: 28000: Generator Loss: -0.3730762302875519, Discriminator Loss:-0.01961997151374817\n",
            "Steps: 30000: Generator Loss: -0.19785457849502563, Discriminator Loss:0.01701020449399948\n",
            "Steps: 32000: Generator Loss: 0.5172661542892456, Discriminator Loss:0.009945958852767944\n",
            "Steps: 34000: Generator Loss: 0.24551883339881897, Discriminator Loss:0.006393909454345703\n",
            "Steps: 36000: Generator Loss: 0.7103182077407837, Discriminator Loss:-0.028626561164855957\n",
            "Steps: 38000: Generator Loss: -0.31153422594070435, Discriminator Loss:-0.006745696067810059\n",
            "Steps: 40000: Generator Loss: -0.6544961333274841, Discriminator Loss:0.008059978485107422\n",
            "Steps: 42000: Generator Loss: 0.13824115693569183, Discriminator Loss:-0.00467817485332489\n",
            "Steps: 44000: Generator Loss: 1.0648245811462402, Discriminator Loss:-0.02815842628479004\n",
            "Steps: 46000: Generator Loss: 0.28178656101226807, Discriminator Loss:-0.020966261625289917\n",
            "Steps: 48000: Generator Loss: -0.21801352500915527, Discriminator Loss:-0.02011290192604065\n",
            "Steps: 50000: Generator Loss: 0.04870599880814552, Discriminator Loss:-0.0017192568629980087\n",
            "Steps: 52000: Generator Loss: -0.342490553855896, Discriminator Loss:-0.005756735801696777\n",
            "Steps: 54000: Generator Loss: 0.25745725631713867, Discriminator Loss:0.019918367266654968\n",
            "Steps: 56000: Generator Loss: -0.05194593966007233, Discriminator Loss:0.003923611715435982\n",
            "Steps: 58000: Generator Loss: 0.35587936639785767, Discriminator Loss:0.007522672414779663\n",
            "Steps: 60000: Generator Loss: -0.18992072343826294, Discriminator Loss:0.013322904706001282\n",
            "Steps: 62000: Generator Loss: -0.17040082812309265, Discriminator Loss:-0.03471815586090088\n",
            "Steps: 64000: Generator Loss: 1.0380444526672363, Discriminator Loss:0.03152841329574585\n",
            "Steps: 66000: Generator Loss: -0.2569845914840698, Discriminator Loss:0.009590774774551392\n",
            "Steps: 68000: Generator Loss: 0.570719301700592, Discriminator Loss:0.005742907524108887\n",
            "Steps: 70000: Generator Loss: -0.432226300239563, Discriminator Loss:-0.04515072703361511\n",
            "Steps: 72000: Generator Loss: -0.8067508935928345, Discriminator Loss:0.09343326091766357\n",
            "Steps: 74000: Generator Loss: -0.1660422384738922, Discriminator Loss:0.018896691501140594\n",
            "Steps: 76000: Generator Loss: -0.005257695913314819, Discriminator Loss:0.038826826959848404\n",
            "Steps: 78000: Generator Loss: -0.0008112638024613261, Discriminator Loss:0.02353113889694214\n",
            "Steps: 80000: Generator Loss: 0.025885406881570816, Discriminator Loss:0.024206139147281647\n",
            "Steps: 82000: Generator Loss: 0.004052234347909689, Discriminator Loss:0.007754439953714609\n",
            "Steps: 84000: Generator Loss: -0.04111096262931824, Discriminator Loss:0.013806536793708801\n",
            "Steps: 86000: Generator Loss: 0.013508539646863937, Discriminator Loss:0.01932295225560665\n",
            "Steps: 88000: Generator Loss: -0.07781793177127838, Discriminator Loss:0.022538229823112488\n",
            "Steps: 90000: Generator Loss: -0.015082594007253647, Discriminator Loss:0.009991652332246304\n",
            "Steps: 92000: Generator Loss: -0.04105835780501366, Discriminator Loss:0.01171300932765007\n",
            "Steps: 94000: Generator Loss: -0.03181183710694313, Discriminator Loss:0.011126954108476639\n",
            "Steps: 96000: Generator Loss: -0.05338629335165024, Discriminator Loss:0.008274756371974945\n",
            "Steps: 98000: Generator Loss: 0.02075802907347679, Discriminator Loss:0.00885530561208725\n"
          ],
          "name": "stdout"
        }
      ]
    },
    {
      "cell_type": "code",
      "metadata": {
        "id": "gSHkcV7-EP7z",
        "colab_type": "code",
        "outputId": "d87248f3-9818-4280-bfe3-84d6eefcd4d4",
        "colab": {
          "base_uri": "https://localhost:8080/",
          "height": 85
        }
      },
      "source": [
        "print(x_batch.shape)\n",
        "print(x_input.shape)\n",
        "print(z_input.shape)\n",
        "print(z_noise.shape)\n",
        "\n"
      ],
      "execution_count": 21,
      "outputs": [
        {
          "output_type": "stream",
          "text": [
            "(128, 784)\n",
            "(?, 784)\n",
            "(?, 100)\n",
            "(128, 100)\n"
          ],
          "name": "stdout"
        }
      ]
    },
    {
      "cell_type": "code",
      "metadata": {
        "id": "O4NBuJPt2iwm",
        "colab_type": "code",
        "colab": {
          "base_uri": "https://localhost:8080/",
          "height": 378
        },
        "outputId": "78738f28-ecf3-40cc-c433-de8a09d34eef"
      },
      "source": [
        "#Testing\n",
        "# Generate images from noise, using the generator network\n",
        "\n",
        "n = 6\n",
        "canvas = np.empty((28*n, 28*n))\n",
        "for i in range(n):\n",
        "  #Noise input\n",
        "  z_noise = np.random.uniform(-1.,1., size = [batch_size, z_noise_dim])\n",
        "  # Generate image from noise\n",
        "  g = sess.run(output_Gen, feed_dict = {z_input:z_noise})\n",
        "  # Reverse colors for better display\n",
        "  g=-1*(g-1)\n",
        "  for j in range(n):\n",
        "    #Draw the generated digits\n",
        "    canvas[i*28:(i+1)*28, j*28:(j+1)*28] = g[j].reshape([28, 28])\n",
        "    \n",
        "plt.figure(figsize = (n,n))\n",
        "plt.imshow(canvas, origin = \"upper\", cmap = \"gray\")\n",
        "plt.show()"
      ],
      "execution_count": 22,
      "outputs": [
        {
          "output_type": "display_data",
          "data": {
            "image/png": "[encoded data removed]",
            "text/plain": [
              "<Figure size 432x432 with 1 Axes>"
            ]
          },
          "metadata": {
            "tags": []
          }
        }
      ]
    },
    {
      "cell_type": "code",
      "metadata": {
        "id": "ZGvnSGzIKXP1",
        "colab_type": "code",
        "colab": {}
      },
      "source": [
        ""
      ],
      "execution_count": 0,
      "outputs": []
    }
  ]
}