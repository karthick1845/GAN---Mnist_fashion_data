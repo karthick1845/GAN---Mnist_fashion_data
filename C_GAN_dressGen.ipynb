{
  "nbformat": 4,
  "nbformat_minor": 0,
  "metadata": {
    "colab": {
      "name": "C_GAN_dressGen.ipynb",
      "provenance": [],
      "collapsed_sections": []
    },
    "kernelspec": {
      "name": "python3",
      "display_name": "Python 3"
    },
    "accelerator": "GPU"
  },
  "cells": [
    {
      "cell_type": "code",
      "metadata": {
        "id": "UcyoFmSRkVgl",
        "colab_type": "code",
        "outputId": "8e88b15b-8720-4fc5-ec60-43ca76db7b03",
        "colab": {
          "base_uri": "https://localhost:8080/",
          "height": 785
        }
      },
      "source": [
        "!wget http://fashion-mnist.s3-website.eu-central-1.amazonaws.com/train-images-idx3-ubyte.gz\n",
        "!wget http://fashion-mnist.s3-website.eu-central-1.amazonaws.com/train-labels-idx1-ubyte.gz\n",
        "!wget http://fashion-mnist.s3-website.eu-central-1.amazonaws.com/t10k-images-idx3-ubyte.gz\n",
        "!wget http://fashion-mnist.s3-website.eu-central-1.amazonaws.com/t10k-labels-idx1-ubyte.gz"
      ],
      "execution_count": 33,
      "outputs": [
        {
          "output_type": "stream",
          "text": [
            "--2019-09-22 12:59:00--  http://fashion-mnist.s3-website.eu-central-1.amazonaws.com/train-images-idx3-ubyte.gz\n",
            "Resolving fashion-mnist.s3-website.eu-central-1.amazonaws.com (fashion-mnist.s3-website.eu-central-1.amazonaws.com)... 52.219.73.106\n",
            "Connecting to fashion-mnist.s3-website.eu-central-1.amazonaws.com (fashion-mnist.s3-website.eu-central-1.amazonaws.com)|52.219.73.106|:80... connected.\n",
            "HTTP request sent, awaiting response... 200 OK\n",
            "Length: 26421880 (25M) [binary/octet-stream]\n",
            "Saving to: ‘train-images-idx3-ubyte.gz.2’\n",
            "\n",
            "\r          train-ima   0%[                    ]       0  --.-KB/s               \r         train-imag  84%[===============>    ]  21.38M   107MB/s               \rtrain-images-idx3-u 100%[===================>]  25.20M   105MB/s    in 0.2s    \n",
            "\n",
            "2019-09-22 12:59:00 (105 MB/s) - ‘train-images-idx3-ubyte.gz.2’ saved [26421880/26421880]\n",
            "\n",
            "--2019-09-22 12:59:05--  http://fashion-mnist.s3-website.eu-central-1.amazonaws.com/train-labels-idx1-ubyte.gz\n",
            "Resolving fashion-mnist.s3-website.eu-central-1.amazonaws.com (fashion-mnist.s3-website.eu-central-1.amazonaws.com)... 52.219.74.170\n",
            "Connecting to fashion-mnist.s3-website.eu-central-1.amazonaws.com (fashion-mnist.s3-website.eu-central-1.amazonaws.com)|52.219.74.170|:80... connected.\n",
            "HTTP request sent, awaiting response... 200 OK\n",
            "Length: 29515 (29K) [binary/octet-stream]\n",
            "Saving to: ‘train-labels-idx1-ubyte.gz.2’\n",
            "\n",
            "train-labels-idx1-u 100%[===================>]  28.82K  --.-KB/s    in 0.01s   \n",
            "\n",
            "2019-09-22 12:59:05 (2.70 MB/s) - ‘train-labels-idx1-ubyte.gz.2’ saved [29515/29515]\n",
            "\n",
            "--2019-09-22 12:59:10--  http://fashion-mnist.s3-website.eu-central-1.amazonaws.com/t10k-images-idx3-ubyte.gz\n",
            "Resolving fashion-mnist.s3-website.eu-central-1.amazonaws.com (fashion-mnist.s3-website.eu-central-1.amazonaws.com)... 52.219.72.194\n",
            "Connecting to fashion-mnist.s3-website.eu-central-1.amazonaws.com (fashion-mnist.s3-website.eu-central-1.amazonaws.com)|52.219.72.194|:80... connected.\n",
            "HTTP request sent, awaiting response... 200 OK\n",
            "Length: 4422102 (4.2M) [binary/octet-stream]\n",
            "Saving to: ‘t10k-images-idx3-ubyte.gz.2’\n",
            "\n",
            "t10k-images-idx3-ub 100%[===================>]   4.22M  --.-KB/s    in 0.09s   \n",
            "\n",
            "2019-09-22 12:59:10 (45.3 MB/s) - ‘t10k-images-idx3-ubyte.gz.2’ saved [4422102/4422102]\n",
            "\n",
            "--2019-09-22 12:59:15--  http://fashion-mnist.s3-website.eu-central-1.amazonaws.com/t10k-labels-idx1-ubyte.gz\n",
            "Resolving fashion-mnist.s3-website.eu-central-1.amazonaws.com (fashion-mnist.s3-website.eu-central-1.amazonaws.com)... 52.219.72.186\n",
            "Connecting to fashion-mnist.s3-website.eu-central-1.amazonaws.com (fashion-mnist.s3-website.eu-central-1.amazonaws.com)|52.219.72.186|:80... connected.\n",
            "HTTP request sent, awaiting response... 200 OK\n",
            "Length: 5148 (5.0K) [binary/octet-stream]\n",
            "Saving to: ‘t10k-labels-idx1-ubyte.gz.2’\n",
            "\n",
            "t10k-labels-idx1-ub 100%[===================>]   5.03K  --.-KB/s    in 0s      \n",
            "\n",
            "2019-09-22 12:59:15 (332 MB/s) - ‘t10k-labels-idx1-ubyte.gz.2’ saved [5148/5148]\n",
            "\n"
          ],
          "name": "stdout"
        }
      ]
    },
    {
      "cell_type": "code",
      "metadata": {
        "id": "wx26lBNnlSb-",
        "colab_type": "code",
        "outputId": "8744bf0d-5676-4d2f-da13-e0beacab8962",
        "colab": {
          "base_uri": "https://localhost:8080/",
          "height": 153
        }
      },
      "source": [
        "!ls"
      ],
      "execution_count": 34,
      "outputs": [
        {
          "output_type": "stream",
          "text": [
            "log\t\t\t     t10k-labels-idx1-ubyte.gz.2\n",
            "MNIST_Fashion\t\t     train-images-idx3-ubyte.gz\n",
            "sample_data\t\t     train-images-idx3-ubyte.gz.1\n",
            "t10k-images-idx3-ubyte.gz    train-images-idx3-ubyte.gz.2\n",
            "t10k-images-idx3-ubyte.gz.1  train-labels-idx1-ubyte.gz\n",
            "t10k-images-idx3-ubyte.gz.2  train-labels-idx1-ubyte.gz.1\n",
            "t10k-labels-idx1-ubyte.gz    train-labels-idx1-ubyte.gz.2\n",
            "t10k-labels-idx1-ubyte.gz.1\n"
          ],
          "name": "stdout"
        }
      ]
    },
    {
      "cell_type": "code",
      "metadata": {
        "id": "9BazpF0bmJM0",
        "colab_type": "code",
        "colab": {}
      },
      "source": [
        "import numpy as np\n",
        "import tensorflow as tf\n",
        "import matplotlib.pyplot as plt\n",
        "import matplotlib.gridspec as gridspec"
      ],
      "execution_count": 0,
      "outputs": []
    },
    {
      "cell_type": "code",
      "metadata": {
        "id": "ac0FYa8Xlede",
        "colab_type": "code",
        "outputId": "963c48de-db6d-4bf3-d472-20e1bc1fbfe8",
        "colab": {
          "base_uri": "https://localhost:8080/",
          "height": 173
        }
      },
      "source": [
        "!mkdir MNIST_Fashion\n",
        "!cp *.gz MNIST_Fashion/\n",
        "from tensorflow.examples.tutorials.mnist import input_data\n",
        "mnist = input_data.read_data_sets(\"MNIST_Fashion/\", one_hot = True)"
      ],
      "execution_count": 36,
      "outputs": [
        {
          "output_type": "stream",
          "text": [
            "mkdir: cannot create directory ‘MNIST_Fashion’: File exists\n",
            "Extracting MNIST_Fashion/train-images-idx3-ubyte.gz\n",
            "Extracting MNIST_Fashion/train-labels-idx1-ubyte.gz\n",
            "WARNING:tensorflow:From /usr/local/lib/python3.6/dist-packages/tensorflow/contrib/learn/python/learn/datasets/mnist.py:110: dense_to_one_hot (from tensorflow.contrib.learn.python.learn.datasets.mnist) is deprecated and will be removed in a future version.\n",
            "Instructions for updating:\n",
            "Please use tf.one_hot on tensors.\n",
            "Extracting MNIST_Fashion/t10k-images-idx3-ubyte.gz\n",
            "Extracting MNIST_Fashion/t10k-labels-idx1-ubyte.gz\n"
          ],
          "name": "stdout"
        }
      ]
    },
    {
      "cell_type": "code",
      "metadata": {
        "id": "XMupEFAhmh6S",
        "colab_type": "code",
        "colab": {}
      },
      "source": [
        "#Training PArams\n",
        "learning_rate = 0.0002\n",
        "batch_size = 128\n",
        "epochs = 100000\n",
        "\n",
        "#Network params\n",
        "image_dim = 784 #img sz is 28x28\n",
        "Y_dimension = 10 # The number of classes\n",
        "gen_hidd_dim = 256\n",
        "disc_hidd_dim  = 256\n",
        "z_noise_dim = 100\n",
        "\n",
        "def xavier_init(shape):\n",
        "  return tf.random_normal(shape = shape, stddev= 1./tf.sqrt(shape[0]/2.0))"
      ],
      "execution_count": 0,
      "outputs": []
    },
    {
      "cell_type": "code",
      "metadata": {
        "id": "YZT-GzeQtaQN",
        "colab_type": "code",
        "colab": {}
      },
      "source": [
        "weights = {\n",
        "    \"disc_H\" : tf.Variable(xavier_init([image_dim + Y_dimension, disc_hidd_dim])),\n",
        "    \"disc_final\": tf.Variable(xavier_init([disc_hidd_dim,1])),\n",
        "    \"gen_H\": tf.Variable(xavier_init([z_noise_dim + Y_dimension, gen_hidd_dim])),\n",
        "    \"gen_final\": tf.Variable(xavier_init([gen_hidd_dim, image_dim]))\n",
        "}\n",
        "\n",
        "bias = {\n",
        "    \"disc_H\" : tf.Variable(xavier_init([disc_hidd_dim])),\n",
        "    \"disc_final\": tf.Variable(xavier_init([1])),\n",
        "    \"gen_H\": tf.Variable(xavier_init([gen_hidd_dim])),\n",
        "    \"gen_final\": tf.Variable(xavier_init([image_dim]))\n",
        "}"
      ],
      "execution_count": 0,
      "outputs": []
    },
    {
      "cell_type": "code",
      "metadata": {
        "id": "-hn90CdeTXRg",
        "colab_type": "code",
        "colab": {}
      },
      "source": [
        "#define placeholders for external input\n",
        "\n",
        "z_input = tf.placeholder(tf.float32, shape = [None, z_noise_dim], name = \"input_noise\")\n",
        "x_input = tf.placeholder(tf.float32, shape = [None, image_dim], name = \"real_input\")\n",
        "Y_input = tf.placeholder(tf.float32, shape = [None, Y_dimension], name = \"Labels\")\n",
        "\n"
      ],
      "execution_count": 0,
      "outputs": []
    },
    {
      "cell_type": "code",
      "metadata": {
        "id": "Od--kA7nvAch",
        "colab_type": "code",
        "colab": {}
      },
      "source": [
        "def Discriminator(x,y):\n",
        "  inputs = tf.concat(axis = 1, values = [x,y])\n",
        "  hidden_layer = tf.nn.relu(tf.add(tf.matmul(inputs, weights[\"disc_H\"]), bias[\"disc_H\"]))\n",
        "  final_layer = (tf.add(tf.matmul(hidden_layer, weights[\"disc_final\"]), bias[\"disc_final\"]))\n",
        "  disc_output = tf.nn.sigmoid(final_layer)\n",
        "  return final_layer, disc_output\n",
        "  "
      ],
      "execution_count": 0,
      "outputs": []
    },
    {
      "cell_type": "code",
      "metadata": {
        "id": "96s5eXy8wELi",
        "colab_type": "code",
        "colab": {}
      },
      "source": [
        "#Generator NW\n",
        "def Generator(x,y):\n",
        "  inputs = tf.concat(axis = 1, values = [x,y])\n",
        "  hidden_layer = tf.nn.relu(tf.add(tf.matmul(inputs, weights[\"gen_H\"]), bias[\"gen_H\"]))\n",
        "  final_layer = (tf.add(tf.matmul(hidden_layer, weights[\"gen_final\"]), bias[\"gen_final\"]))\n",
        "  gen_output = tf.nn.sigmoid(final_layer)\n",
        "  return gen_output\n",
        "  "
      ],
      "execution_count": 0,
      "outputs": []
    },
    {
      "cell_type": "code",
      "metadata": {
        "id": "vfq_esohxQOo",
        "colab_type": "code",
        "colab": {}
      },
      "source": [
        "# building the GEN NW\n",
        "output_Gen = Generator(z_input, Y_input) #G(z/y)\n",
        " \n",
        " # Building the Disc NW\n",
        "real_output1_Disc, real_output_disc = Discriminator(x_input, Y_input) #implements D(x/y)\n",
        "fake_output1_Disc, fake_output_disc = Discriminator(output_Gen, Y_input) # implements D(G(x/y))\n",
        "\n"
      ],
      "execution_count": 0,
      "outputs": []
    },
    {
      "cell_type": "code",
      "metadata": {
        "id": "09_G-6jyyxIl",
        "colab_type": "code",
        "colab": {}
      },
      "source": [
        "#first kind of loss\n",
        "with tf.name_scope(\"Discriminator_Loss\") as scope:\n",
        "  Discriminator_Loss = -tf.reduce_mean(tf.log(real_output_disc+ 0.0001)+tf.log(1.- fake_output_disc+0.0001))\n",
        "  \n",
        "with tf.name_scope(\"Genetator_Loss\") as scope:\n",
        "  Generator_Loss = -tf.reduce_mean(tf.log(fake_output_disc+ 0.0001)) # due to max log(D(G(x)))\n",
        "\n",
        "  # T-board summary\n",
        "  \n",
        "  Disc_loss_total = tf.summary.scalar(\"Disc_Total_loss\", Discriminator_Loss)\n",
        "  Gen_loss_total = tf.summary.scalar(\"Gen_loss\", Generator_Loss)\n"
      ],
      "execution_count": 0,
      "outputs": []
    },
    {
      "cell_type": "code",
      "metadata": {
        "id": "beVetM5N1xsX",
        "colab_type": "code",
        "colab": {}
      },
      "source": [
        "# #second kind of loss\n",
        "# with tf.name_scope(\"Discriminator_Loss\") as scope:\n",
        "#   Disc_real_loss = tf.reduce_mean(tf.nn.sigmoid_cross_entropy_with_logits(logits = real_output1_Disc, labels = tf.ones_like(real_output1_Disc)))\n",
        "#   Disc_fake_loss = tf.reduce_mean(tf.nn.sigmoid_cross_entropy_with_logits(logits = fake_output1_Disc, labels = tf.zeros_like(fake_output1_Disc)))\n",
        "#   Discriminator_Loss = Disc_real_loss + Disc_fake_loss\n",
        "\n",
        "  \n",
        "# with tf.name_scope(\"Genetator_Loss\") as scope:\n",
        "#   Generator_Loss = tf.reduce_mean(tf.nn.sigmoid_cross_entropy_with_logits(logits = fake_output1_Disc, labels = tf.ones_like(fake_output1_Disc)))\n",
        "  \n",
        "#   # Tensorboarf summary\n",
        "  \n",
        "# Disc_loss_real_summary = tf.summary.scalar('Disc_loss_real', Disc_real_loss)\n",
        "# Disc_loss_fake_summary = tf.summary.scalar('Disc_loss_fake', Disc_fake_loss)\n",
        "# Disc_loss_summary = tf.summary.scalar('Disc_total_loss', Discriminator_Loss)\n",
        "\n",
        "# Disc_loss_total = tf.summary.merge([Disc_loss_real_summary, Disc_loss_fake_summary, Disc_loss_summary])\n",
        "# Gen_loss_total = tf.summary.scalar('Gen_loss', Generator_Loss)\n",
        "\n",
        "\n"
      ],
      "execution_count": 0,
      "outputs": []
    },
    {
      "cell_type": "code",
      "metadata": {
        "id": "DmvjYQaKuXpi",
        "colab_type": "code",
        "colab": {}
      },
      "source": [
        "  # Define the variables\n",
        "\n",
        "Generator_var = [weights[\"gen_H\"], weights[\"gen_final\"], bias[\"gen_H\"], bias[\"gen_final\"]]\n",
        "Discriminator_var = [weights[\"disc_H\"], weights[\"disc_final\"], bias[\"disc_H\"], bias[\"disc_final\"]]\n",
        "\n",
        "#Define the optimizer\n",
        "with tf.name_scope(\"Optimizer_Discriminator\") as scope:\n",
        "  Discriminator_optimize = tf.train.AdamOptimizer(learning_rate = learning_rate).minimize(Discriminator_Loss, var_list = Discriminator_var)\n",
        "\n",
        "with tf.name_scope(\"Optimizer_Generator\") as scope:\n",
        "  Generator_optimize = tf.train.AdamOptimizer(learning_rate = learning_rate).minimize(Generator_Loss, var_list = Generator_var)\n",
        "  "
      ],
      "execution_count": 0,
      "outputs": []
    },
    {
      "cell_type": "code",
      "metadata": {
        "id": "B6nBmWh6wLLq",
        "colab_type": "code",
        "outputId": "a016d9ad-60e7-444e-fd48-3720955217d7",
        "colab": {
          "base_uri": "https://localhost:8080/",
          "height": 867
        }
      },
      "source": [
        "# Initialize the variables\n",
        "\n",
        "init = tf.global_variables_initializer()\n",
        "sess = tf.Session()\n",
        "\n",
        "sess.run(init)\n",
        "writer = tf.summary.FileWriter(\"./log\", sess.graph)\n",
        "\n",
        "for epoch in range(epochs):\n",
        "  x_batch, Y_label = mnist.train.next_batch(batch_size)\n",
        "  \n",
        "  #Generate noise to feed Discriminator\n",
        "  z_noise = np.random.uniform(-1.,1.,size = [batch_size, z_noise_dim])\n",
        "  _, Disc_loss_epoch = sess.run([Discriminator_optimize, Discriminator_Loss], feed_dict = {x_input:x_batch, Y_input:Y_label, z_input:z_noise})\n",
        "  _, Gen_loss_epoch = sess.run([Generator_optimize, Generator_Loss], feed_dict = {z_input:z_noise, Y_input:Y_label})  \n",
        "  \n",
        "  #Running the Discriminator summary\n",
        "  summary_Disc_loss = sess.run(Disc_loss_total, feed_dict = {x_input:x_batch, z_input:z_noise, Y_input:Y_label})\n",
        "  # Adding the Discriminator summary\n",
        "  writer.add_summary(summary_Disc_loss, epoch)\n",
        "  \n",
        "  #Running the Generator summary\n",
        "  summary_Gen_loss = sess.run(Gen_loss_total, feed_dict = {z_input:z_noise, Y_input:Y_label})\n",
        "  # Adding the Generator summary\n",
        "  writer.add_summary(summary_Gen_loss, epoch)\n",
        "  \n",
        "  if epoch % 2000 == 0:\n",
        "    print(\"Steps: {0}: Generator Loss: {1}, Discriminator Loss:{2}\".format(epoch, Gen_loss_epoch, Disc_loss_epoch))\n",
        "  \n",
        "  \n"
      ],
      "execution_count": 53,
      "outputs": [
        {
          "output_type": "stream",
          "text": [
            "Steps: 0: Generator Loss: 1.2810556888580322, Discriminator Loss:1.4036788940429688\n",
            "Steps: 2000: Generator Loss: 6.665197849273682, Discriminator Loss:0.02185380831360817\n",
            "Steps: 4000: Generator Loss: 4.120672702789307, Discriminator Loss:0.13705849647521973\n",
            "Steps: 6000: Generator Loss: 4.001176834106445, Discriminator Loss:0.15926459431648254\n",
            "Steps: 8000: Generator Loss: 3.998939037322998, Discriminator Loss:0.1976121962070465\n",
            "Steps: 10000: Generator Loss: 3.755772829055786, Discriminator Loss:0.37067463994026184\n",
            "Steps: 12000: Generator Loss: 4.238238334655762, Discriminator Loss:0.17916974425315857\n",
            "Steps: 14000: Generator Loss: 3.8317372798919678, Discriminator Loss:0.3688141107559204\n",
            "Steps: 16000: Generator Loss: 3.7119901180267334, Discriminator Loss:0.4597961902618408\n",
            "Steps: 18000: Generator Loss: 3.534891366958618, Discriminator Loss:0.38630104064941406\n",
            "Steps: 20000: Generator Loss: 2.8810877799987793, Discriminator Loss:0.46687525510787964\n",
            "Steps: 22000: Generator Loss: 2.328599452972412, Discriminator Loss:0.5129964351654053\n",
            "Steps: 24000: Generator Loss: 2.4169230461120605, Discriminator Loss:0.5382898449897766\n",
            "Steps: 26000: Generator Loss: 2.520730495452881, Discriminator Loss:0.5078528523445129\n",
            "Steps: 28000: Generator Loss: 2.0571329593658447, Discriminator Loss:0.7263427972793579\n",
            "Steps: 30000: Generator Loss: 2.2126357555389404, Discriminator Loss:0.5324649214744568\n",
            "Steps: 32000: Generator Loss: 2.391488552093506, Discriminator Loss:0.7062442898750305\n",
            "Steps: 34000: Generator Loss: 2.031740188598633, Discriminator Loss:0.6795985698699951\n",
            "Steps: 36000: Generator Loss: 2.0562562942504883, Discriminator Loss:0.8967874050140381\n",
            "Steps: 38000: Generator Loss: 1.6431206464767456, Discriminator Loss:0.8702189922332764\n",
            "Steps: 40000: Generator Loss: 1.8524537086486816, Discriminator Loss:0.8787059187889099\n",
            "Steps: 42000: Generator Loss: 2.0923521518707275, Discriminator Loss:0.7313941121101379\n",
            "Steps: 44000: Generator Loss: 2.082287073135376, Discriminator Loss:1.0506993532180786\n",
            "Steps: 46000: Generator Loss: 1.8415436744689941, Discriminator Loss:0.9871857762336731\n",
            "Steps: 48000: Generator Loss: 2.445986747741699, Discriminator Loss:0.8463912010192871\n",
            "Steps: 50000: Generator Loss: 1.6479865312576294, Discriminator Loss:1.177063226699829\n",
            "Steps: 52000: Generator Loss: 1.8386491537094116, Discriminator Loss:0.8278873562812805\n",
            "Steps: 54000: Generator Loss: 1.5918254852294922, Discriminator Loss:1.0101335048675537\n",
            "Steps: 56000: Generator Loss: 1.9227936267852783, Discriminator Loss:1.015535593032837\n",
            "Steps: 58000: Generator Loss: 1.6866161823272705, Discriminator Loss:0.8705646395683289\n",
            "Steps: 60000: Generator Loss: 1.6198217868804932, Discriminator Loss:1.0817625522613525\n",
            "Steps: 62000: Generator Loss: 1.691160798072815, Discriminator Loss:1.0951712131500244\n",
            "Steps: 64000: Generator Loss: 2.045804738998413, Discriminator Loss:1.0415313243865967\n",
            "Steps: 66000: Generator Loss: 1.9435594081878662, Discriminator Loss:0.867792010307312\n",
            "Steps: 68000: Generator Loss: 1.2355430126190186, Discriminator Loss:1.3247641324996948\n",
            "Steps: 70000: Generator Loss: 1.5091404914855957, Discriminator Loss:1.3332843780517578\n",
            "Steps: 72000: Generator Loss: 1.8564181327819824, Discriminator Loss:0.9653632640838623\n",
            "Steps: 74000: Generator Loss: 1.8958728313446045, Discriminator Loss:0.9530302286148071\n",
            "Steps: 76000: Generator Loss: 1.4985740184783936, Discriminator Loss:1.2420713901519775\n",
            "Steps: 78000: Generator Loss: 1.9713279008865356, Discriminator Loss:1.105647325515747\n",
            "Steps: 80000: Generator Loss: 1.5458425283432007, Discriminator Loss:1.2899222373962402\n",
            "Steps: 82000: Generator Loss: 1.553359866142273, Discriminator Loss:1.1438515186309814\n",
            "Steps: 84000: Generator Loss: 1.8715550899505615, Discriminator Loss:1.231022834777832\n",
            "Steps: 86000: Generator Loss: 1.8320751190185547, Discriminator Loss:1.0993586778640747\n",
            "Steps: 88000: Generator Loss: 1.6383163928985596, Discriminator Loss:1.1759893894195557\n",
            "Steps: 90000: Generator Loss: 1.896270751953125, Discriminator Loss:1.1564751863479614\n",
            "Steps: 92000: Generator Loss: 1.6164828538894653, Discriminator Loss:1.3400644063949585\n",
            "Steps: 94000: Generator Loss: 1.32316255569458, Discriminator Loss:1.249334454536438\n",
            "Steps: 96000: Generator Loss: 1.4251748323440552, Discriminator Loss:1.1683566570281982\n",
            "Steps: 98000: Generator Loss: 1.2588375806808472, Discriminator Loss:1.395728588104248\n"
          ],
          "name": "stdout"
        }
      ]
    },
    {
      "cell_type": "code",
      "metadata": {
        "id": "gSHkcV7-EP7z",
        "colab_type": "code",
        "colab": {
          "base_uri": "https://localhost:8080/",
          "height": 119
        },
        "outputId": "60c3faf1-3791-4341-abc7-3001a638694b"
      },
      "source": [
        "print(x_batch.shape)\n",
        "print(x_input.shape)\n",
        "print(Y_input.shape)\n",
        "print(Y_label.shape)\n",
        "print(z_input.shape)\n",
        "print(z_noise.shape)\n",
        "\n"
      ],
      "execution_count": 52,
      "outputs": [
        {
          "output_type": "stream",
          "text": [
            "(10, 784)\n",
            "(?, 784)\n",
            "(?, 10)\n",
            "(10, 10)\n",
            "(?, 100)\n",
            "(128, 100)\n"
          ],
          "name": "stdout"
        }
      ]
    },
    {
      "cell_type": "code",
      "metadata": {
        "id": "O4NBuJPt2iwm",
        "colab_type": "code",
        "colab": {}
      },
      "source": [
        "def generate_plot(samples):\n",
        "  fig = plt.figure(figsize = (4,4))\n",
        "  gs = gridspec.GridSpec(4,4)\n",
        "  gs.update(wspace = 0.05, hspace = 0.05)\n",
        "  \n",
        "  for i, sample in enumerate(samples):\n",
        "    ax = plt.subplot(gs[i])\n",
        "    plt.axis('off')\n",
        "    ax.set_xticks([])\n",
        "    ax.set_yticks([])\n",
        "    ax.set_aspect('equal')\n",
        "    plt.imshow(sample.reshape(28,28), cmap = 'gray')\n",
        "  return fig  \n"
      ],
      "execution_count": 0,
      "outputs": []
    },
    {
      "cell_type": "code",
      "metadata": {
        "id": "Ad1rGeTg-ypT",
        "colab_type": "code",
        "colab": {}
      },
      "source": [
        "def create(inp):\n",
        "  feature_map = { \"t-shirt\":0,\n",
        "                 \"trouser\":1,\n",
        "                 \"pullover\":2,\n",
        "                 \"dress\":3,\n",
        "                 \"coat\":4,\n",
        "                 \"sandal\":5,\n",
        "                 \"sirt\":6,\n",
        "                 \"sneaker\":7,\n",
        "                 \"bag\":8,\n",
        "                 \"ankle boot\": 9\n",
        "                }\n",
        "  samples = 16\n",
        "  z_noise = np.random.uniform(-1.,1.,size = [samples, z_noise_dim])\n",
        "  #one hot encoding\n",
        "  Y_label = np.zeros(shape = [samples, Y_dimension])\n",
        "  Y_label[:, feature_map[inp]] = 1\n",
        "  \n",
        "  # run the traineg generator excluding Discriminator\n",
        "  generated_samples = sess.run(output_Gen, feed_dict = {z_input:z_noise, Y_input:Y_label})\n",
        "  #plot images\n",
        "  \n",
        "  generate_plot(generated_samples)\n"
      ],
      "execution_count": 0,
      "outputs": []
    },
    {
      "cell_type": "code",
      "metadata": {
        "id": "AnLixT6yIYnA",
        "colab_type": "code",
        "colab": {
          "base_uri": "https://localhost:8080/",
          "height": 248
        },
        "outputId": "81929d86-f936-4358-ebf6-eb5ece606dbe"
      },
      "source": [
        "create(\"coat\")"
      ],
      "execution_count": 62,
      "outputs": [
        {
          "output_type": "display_data",
          "data": {
            "image/png": "[encoded data removed]",
            "text/plain": [
              "<Figure size 288x288 with 16 Axes>"
            ]
          },
          "metadata": {
            "tags": []
          }
        }
      ]
    },
    {
      "cell_type": "code",
      "metadata": {
        "id": "izEbokHnJwC_",
        "colab_type": "code",
        "colab": {
          "base_uri": "https://localhost:8080/",
          "height": 248
        },
        "outputId": "aa23a421-c10b-4171-d524-a681aea3dcfb"
      },
      "source": [
        "create('trouser')"
      ],
      "execution_count": 63,
      "outputs": [
        {
          "output_type": "display_data",
          "data": {
            "image/png": "[encoded data removed]",
            "text/plain": [
              "<Figure size 288x288 with 16 Axes>"
            ]
          },
          "metadata": {
            "tags": []
          }
        }
      ]
    },
    {
      "cell_type": "code",
      "metadata": {
        "id": "7W4Sj7zbKVQ7",
        "colab_type": "code",
        "colab": {
          "base_uri": "https://localhost:8080/",
          "height": 248
        },
        "outputId": "9c2c196a-878b-4bd3-8229-84a971973658"
      },
      "source": [
        "create('dress')"
      ],
      "execution_count": 65,
      "outputs": [
        {
          "output_type": "display_data",
          "data": {
            "image/png": "[encoded data removed]",
            "text/plain": [
              "<Figure size 288x288 with 16 Axes>"
            ]
          },
          "metadata": {
            "tags": []
          }
        }
      ]
    },
    {
      "cell_type": "code",
      "metadata": {
        "id": "ZGvnSGzIKXP1",
        "colab_type": "code",
        "colab": {}
      },
      "source": [
        ""
      ],
      "execution_count": 0,
      "outputs": []
    }
  ]
}